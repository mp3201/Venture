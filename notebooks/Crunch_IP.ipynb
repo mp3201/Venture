{
"metadata": {
"name": "VC_Funding"
},
"nbformat": 3,
"nbformat_minor": 0,
"worksheets": [
{
"cells": [
{
"cell_type": "heading",
"level": 1,
"metadata": {},
"source": [
"Analyzing VC funding using Cruchbase API"
]
},
{
"cell_type": "heading",
"level": 5,
"metadata": {},
"source": [
"by Andr\u00e9 R\u00edos (datablast.wordpress.com)"
]
},
{
"cell_type": "markdown",
"metadata": {},
"source": [
"Starting MongoDB service over Ubuntu 12.04.4 LTS\n",
"\n",
"sudo mongod --dbpath /var/lib/mongodb --journal"
]
},
{
"cell_type": "code",
"collapsed": false,
"input": [
"import matplotlib\n",
"import json\n",
"import requests\n",
"import numpy as np\n",
"import pandas as pd\n",
"from pandas import DataFrame, Series\n",
"import pymongo\n",
"import networkx as nx\n",
"import matplotlib.pyplot as plt\n",
"from IPython.display import display\n",
"import collections\n",
"from IPython.display import HTML"
],
"language": "python",
"metadata": {},
"outputs": [],
"prompt_number": 170
},
{
"cell_type": "markdown",
"metadata": {},
"source": [
" Connecting MongoDB collection called 'cities'\n",
"\n",
" * c_barcelona(companies)\n",
"\n",
" * f_barcelona(funding)\n",
"\n",
" * i_barcelona(investors)"
]
},
{
"cell_type": "code",
"collapsed": false,
"input": [
"conn = pymongo.Connection(\"localhost\", 27017)\n",
"db = conn.cities\n",
"c_barcelona = db.c_barcelona\n",
"f_barcelona = db.f_barcelona\n",
"i_barcelona = db.i_barcelona"
],
"language": "python",
"metadata": {},
"outputs": [],
"prompt_number": 171
},
{
"cell_type": "heading",
"level": 3,
"metadata": {},
"source": [
"Companies in Barcelona: Create collection c_barcelona"
]
},
{
"cell_type": "markdown",
"metadata": {},
"source": [
"Searching companies at Barcelona and save on BBDD\n",
"\n",
"location_uuid for Barcelona: eead2c0cb178ad334e6d6c813c955e99\n",
"\n",
"Other Cities:\n",
"\n",
" London: aad17950576b8c448fd4f44dbeb59220\n",
"\n",
" Paris: 67af74be0bfa027795c13cb5853c8bcc\n",
"\n",
" Rome: c5a012b1f2f9a3b5c66aee6be778eda2\n",
"\n",
" Berlin: e61662e5c5c2c4d92a31d0e6d6453375\n",
"\n",
"cs=requests.get('http://api.crunchbase.com/v/2/organizations?organization_types=company&location_uuids=eead2c0cb178ad334e6d6c813c955e99&user_key=< enter your key >&page=1').json()\n",
"\n",
"np=cs['data']['paging']['number_of_pages']\n",
"\n",
"ht = 'http://api.crunchbase.com/v/2/organizations?organization_types=company&location_uuids=eead2c0cb178ad334e6d6c813c955e99&user_key=< enter your key >&page='\n",
"\n",
"lc=[]\n",
"\n",
"for i in range(np):\n",
"\n",
" s=str(i+1)\n",
"\n",
" ht_i = ht + s\n",
"\n",
" cs = requests.get(ht_i).json()\n",
"\n",
" ni=len(cs['data']['items'])\n",
"\n",
" for j in range(ni):\n",
"\n",
" lc.append(cs['data']['items'][j]['path'])\n",
"\n",
"List of organization in the city: organization/< name of organization>\n",
"\n",
"url_list=[]\n",
"\n",
"url_1='http://api.crunchbase.com/v/2/'\n",
"\n",
"for i in range(len(lc)):\n",
"\n",
" rl_list.append(url_1 + str(lc[i]) + '?user_key=< your key >')\n",
"\n",
"Save json file in MongoDB: Companies in Barcelona\n",
"\n",
"for i in range(len(url_list)):\n",
"\n",
" rs = requests.get(url_list[i]).json()\n",
"\n",
" c_barcelona.insert(rs)\n",
"\n",
"Erase some element with errors.\n",
"\n",
"db.c_barcelona.remove({'data': {u'response': False, u'error': {u'message': u'Node 4035881 not found', u'code': 500}}})"
]
},
{
"cell_type": "code",
"collapsed": false,
"input": [
"n=c_barcelona.count()\n",
"df1 = DataFrame(columns=['uuid','name','role'], index=list(range(0,n)))\n",
"for i in range(n):\n",
" df1.loc[i] = Series({'uuid': c_barcelona.find()[i]['data']['uuid'],'name':c_barcelona.find()[i]['data']['properties']['permalink']\n",
" ,'role':c_barcelona.find()[i]['data']['properties']['primary_role']})\n",
" \n",
"df1=df1.drop_duplicates()"
],
"language": "python",
"metadata": {},
"outputs": [],
"prompt_number": 172
},
{
"cell_type": "code",
"collapsed": false,
"input": [
"df1.head()"
],
"language": "python",
"metadata": {},
"outputs": [
{
"html": [
"<div style=\"max-height:1000px;max-width:1500px;overflow:auto;\">\n",
"<table border=\"1\" class=\"dataframe\">\n",
" <thead>\n",
" <tr style=\"text-align: right;\">\n",
" <th></th>\n",
" <th>uuid</th>\n",
" <th>name</th>\n",
" <th>role</th>\n",
" </tr>\n",
" </thead>\n",
" <tbody>\n",
" <tr>\n",
" <th>0</th>\n",
" <td> d0647cecacb39a23bc4fd3fad90ecb4e</td>\n",
" <td> strands</td>\n",
" <td> company</td>\n",
" </tr>\n",
" <tr>\n",
" <th>1</th>\n",
" <td> a931b34d31f31d171f3d359875fc02c2</td>\n",
" <td> gsi-commerce</td>\n",
" <td> company</td>\n",
" </tr>\n",
" <tr>\n",
" <th>2</th>\n",
" <td> 31af5340f371d4f618156ca86a3a28fd</td>\n",
" <td> akamon-entertainment</td>\n",
" <td> company</td>\n",
" </tr>\n",
" <tr>\n",
" <th>3</th>\n",
" <td> 476cdc24e4c314c49b9297032674e2da</td>\n",
" <td> veeva</td>\n",
" <td> company</td>\n",
" </tr>\n",
" <tr>\n",
" <th>4</th>\n",
" <td> 78c70050042ba916b8121ab481207ea0</td>\n",
" <td> 3scale</td>\n",
" <td> company</td>\n",
" </tr>\n",
" </tbody>\n",
"</table>\n",
"</div>"
],
"output_type": "pyout",
"prompt_number": 119,
"text": [
" uuid name role\n",
"0 d0647cecacb39a23bc4fd3fad90ecb4e strands company\n",
"1 a931b34d31f31d171f3d359875fc02c2 gsi-commerce company\n",
"2 31af5340f371d4f618156ca86a3a28fd akamon-entertainment company\n",
"3 476cdc24e4c314c49b9297032674e2da veeva company\n",
"4 78c70050042ba916b8121ab481207ea0 3scale company"
]
}
],
"prompt_number": 119
},
{
"cell_type": "code",
"collapsed": false,
"input": [
"dfx=df1[['name','role']]\n",
"h = HTML(dfx[0:7].to_html(index=False))\n",
"my_file = open('role_company.html', 'w')\n",
"my_file.write(h.data)\n",
"my_file.close()"
],
"language": "python",
"metadata": {},
"outputs": [],
"prompt_number": 96
},
{
"cell_type": "code",
"collapsed": false,
"input": [
"n=c_barcelona.count()\n",
"f=0\n",
"df2 = DataFrame(columns=['uuid','name','category'], index=list(range(0,10000)))\n",
"for i in range(n):\n",
" if (c_barcelona.find()[i]['data']['relationships']).get('categories','empty') != 'empty':\n",
" ni=len(c_barcelona.find()[i]['data']['relationships']['categories']['items'])\n",
" for j in range(ni):\n",
" df2.loc[f]= Series({'uuid':c_barcelona.find()[i]['data']['uuid'],'name':c_barcelona.find()[i]['data']['properties']['permalink'],\n",
" 'category':c_barcelona.find()[i]['data']['relationships']['categories']['items'][j]['name']}) \n",
" f=f+1\n",
" \n",
"df2=df2.drop_duplicates()\n",
"df2=df2.dropna(thresh=1)"
],
"language": "python",
"metadata": {},
"outputs": [],
"prompt_number": 173
},
{
"cell_type": "code",
"collapsed": false,
"input": [
"df2.head(n=10)"
],
"language": "python",
"metadata": {},
"outputs": [
{
"html": [
"<div style=\"max-height:1000px;max-width:1500px;overflow:auto;\">\n",
"<table border=\"1\" class=\"dataframe\">\n",
" <thead>\n",
" <tr style=\"text-align: right;\">\n",
" <th></th>\n",
" <th>uuid</th>\n",
" <th>name</th>\n",
" <th>category</th>\n",
" </tr>\n",
" </thead>\n",
" <tbody>\n",
" <tr>\n",
" <th>0</th>\n",
" <td> d0647cecacb39a23bc4fd3fad90ecb4e</td>\n",
" <td> strands</td>\n",
" <td> Artificial Intelligence</td>\n",
" </tr>\n",
" <tr>\n",
" <th>1</th>\n",
" <td> d0647cecacb39a23bc4fd3fad90ecb4e</td>\n",
" <td> strands</td>\n",
" <td> Reviews and Recommendations</td>\n",
" </tr>\n",
" <tr>\n",
" <th>2</th>\n",
" <td> d0647cecacb39a23bc4fd3fad90ecb4e</td>\n",
" <td> strands</td>\n",
" <td> Software</td>\n",
" </tr>\n",
" <tr>\n",
" <th>3</th>\n",
" <td> d0647cecacb39a23bc4fd3fad90ecb4e</td>\n",
" <td> strands</td>\n",
" <td> Personal Finance</td>\n",
" </tr>\n",
" <tr>\n",
" <th>4</th>\n",
" <td> d0647cecacb39a23bc4fd3fad90ecb4e</td>\n",
" <td> strands</td>\n",
" <td> E-Commerce</td>\n",
" </tr>\n",
" <tr>\n",
" <th>5</th>\n",
" <td> d0647cecacb39a23bc4fd3fad90ecb4e</td>\n",
" <td> strands</td>\n",
" <td> Personalization</td>\n",
" </tr>\n",
" <tr>\n",
" <th>6</th>\n",
" <td> a931b34d31f31d171f3d359875fc02c2</td>\n",
" <td> gsi-commerce</td>\n",
" <td> Enterprise Software</td>\n",
" </tr>\n",
" <tr>\n",
" <th>7</th>\n",
" <td> 31af5340f371d4f618156ca86a3a28fd</td>\n",
" <td> akamon-entertainment</td>\n",
" <td> Games</td>\n",
" </tr>\n",
" <tr>\n",
" <th>8</th>\n",
" <td> 476cdc24e4c314c49b9297032674e2da</td>\n",
" <td> veeva</td>\n",
" <td> Content</td>\n",
" </tr>\n",
" <tr>\n",
" <th>9</th>\n",
" <td> 476cdc24e4c314c49b9297032674e2da</td>\n",
" <td> veeva</td>\n",
" <td> Software</td>\n",
" </tr>\n",
" </tbody>\n",
"</table>\n",
"</div>"
],
"output_type": "pyout",
"prompt_number": 121,
"text": [
" uuid name category\n",
"0 d0647cecacb39a23bc4fd3fad90ecb4e strands Artificial Intelligence\n",
"1 d0647cecacb39a23bc4fd3fad90ecb4e strands Reviews and Recommendations\n",
"2 d0647cecacb39a23bc4fd3fad90ecb4e strands Software\n",
"3 d0647cecacb39a23bc4fd3fad90ecb4e strands Personal Finance\n",
"4 d0647cecacb39a23bc4fd3fad90ecb4e strands E-Commerce\n",
"5 d0647cecacb39a23bc4fd3fad90ecb4e strands Personalization\n",
"6 a931b34d31f31d171f3d359875fc02c2 gsi-commerce Enterprise Software\n",
"7 31af5340f371d4f618156ca86a3a28fd akamon-entertainment Games\n",
"8 476cdc24e4c314c49b9297032674e2da veeva Content\n",
"9 476cdc24e4c314c49b9297032674e2da veeva Software"
]
}
],
"prompt_number": 121
},
{
"cell_type": "code",
"collapsed": false,
"input": [
"dfx=df2[['name','category']]\n",
"h = HTML(dfx[0:7].to_html(index=False))\n",
"my_file = open('cat_company.html', 'w')\n",
"my_file.write(h.data)\n",
"my_file.close()"
],
"language": "python",
"metadata": {},
"outputs": [],
"prompt_number": 78
},
{
"cell_type": "code",
"collapsed": false,
"input": [
"f=0\n",
"df3 = DataFrame(columns=['uuid','name','path'], index=list(range(0,10000)))\n",
"for i in range(n):\n",
" if (c_barcelona.find()[i]['data']['relationships']).get('funding_rounds','empty') != 'empty':\n",
" ni=len(c_barcelona.find()[i]['data']['relationships']['funding_rounds']['items'])\n",
" for j in range(ni):\n",
" df3.loc[f]= Series({'uuid':c_barcelona.find()[i]['data']['uuid'],\n",
" 'name':c_barcelona.find()[i]['data']['properties']['permalink'],\n",
" 'path':c_barcelona.find()[i]['data']['relationships']['funding_rounds']['items'][j]['path']}) \n",
" f=f+1\n",
" \n",
"df3['uuid_fund'] = df3['path'].map(lambda x: str(x).replace(\"funding-round/\",\"\"))\n",
"df3=df3.drop_duplicates()"
],
"language": "python",
"metadata": {},
"outputs": [],
"prompt_number": 174
},
{
"cell_type": "code",
"collapsed": false,
"input": [
"df3.head()"
],
"language": "python",
"metadata": {},
"outputs": [
{
"html": [
"<div style=\"max-height:1000px;max-width:1500px;overflow:auto;\">\n",
"<table border=\"1\" class=\"dataframe\">\n",
" <thead>\n",
" <tr style=\"text-align: right;\">\n",
" <th></th>\n",
" <th>uuid</th>\n",
" <th>name</th>\n",
" <th>path</th>\n",
" <th>uuid_fund</th>\n",
" </tr>\n",
" </thead>\n",
" <tbody>\n",
" <tr>\n",
" <th>0</th>\n",
" <td> d0647cecacb39a23bc4fd3fad90ecb4e</td>\n",
" <td> strands</td>\n",
" <td> funding-round/eb5cbd96fd6c6176199f993a589a4da2</td>\n",
" <td> eb5cbd96fd6c6176199f993a589a4da2</td>\n",
" </tr>\n",
" <tr>\n",
" <th>1</th>\n",
" <td> d0647cecacb39a23bc4fd3fad90ecb4e</td>\n",
" <td> strands</td>\n",
" <td> funding-round/9f1a9a6a5326712b265aa70e78a06aa9</td>\n",
" <td> 9f1a9a6a5326712b265aa70e78a06aa9</td>\n",
" </tr>\n",
" <tr>\n",
" <th>2</th>\n",
" <td> d0647cecacb39a23bc4fd3fad90ecb4e</td>\n",
" <td> strands</td>\n",
" <td> funding-round/eef833bbeabcfeb4c866074eda879500</td>\n",
" <td> eef833bbeabcfeb4c866074eda879500</td>\n",
" </tr>\n",
" <tr>\n",
" <th>3</th>\n",
" <td> 31af5340f371d4f618156ca86a3a28fd</td>\n",
" <td> akamon-entertainment</td>\n",
" <td> funding-round/639a184018b1b35cad644c3d11e086c2</td>\n",
" <td> 639a184018b1b35cad644c3d11e086c2</td>\n",
" </tr>\n",
" <tr>\n",
" <th>4</th>\n",
" <td> 31af5340f371d4f618156ca86a3a28fd</td>\n",
" <td> akamon-entertainment</td>\n",
" <td> funding-round/32705565ab649c7d969fd42f1d63e3d2</td>\n",
" <td> 32705565ab649c7d969fd42f1d63e3d2</td>\n",
" </tr>\n",
" </tbody>\n",
"</table>\n",
"</div>"
],
"output_type": "pyout",
"prompt_number": 123,
"text": [
" uuid name \\\n",
"0 d0647cecacb39a23bc4fd3fad90ecb4e strands \n",
"1 d0647cecacb39a23bc4fd3fad90ecb4e strands \n",
"2 d0647cecacb39a23bc4fd3fad90ecb4e strands \n",
"3 31af5340f371d4f618156ca86a3a28fd akamon-entertainment \n",
"4 31af5340f371d4f618156ca86a3a28fd akamon-entertainment \n",
"\n",
" path \\\n",
"0 funding-round/eb5cbd96fd6c6176199f993a589a4da2 \n",
"1 funding-round/9f1a9a6a5326712b265aa70e78a06aa9 \n",
"2 funding-round/eef833bbeabcfeb4c866074eda879500 \n",
"3 funding-round/639a184018b1b35cad644c3d11e086c2 \n",
"4 funding-round/32705565ab649c7d969fd42f1d63e3d2 \n",
"\n",
" uuid_fund \n",
"0 eb5cbd96fd6c6176199f993a589a4da2 \n",
"1 9f1a9a6a5326712b265aa70e78a06aa9 \n",
"2 eef833bbeabcfeb4c866074eda879500 \n",
"3 639a184018b1b35cad644c3d11e086c2 \n",
"4 32705565ab649c7d969fd42f1d63e3d2 "
]
}
],
"prompt_number": 123
},
{
"cell_type": "heading",
"level": 3,
"metadata": {},
"source": [
"Funding links: Create collection f_barcelona"
]
},
{
"cell_type": "markdown",
"metadata": {},
"source": [
"n=c_barcelona.count()\n",
"\n",
"pl=[]\n",
"\n",
"for i in range(n):\n",
"\n",
" if (c_barcelona.find()[i]['data']['relationships']).get('funding_rounds','empty') != 'empty':\n",
"\n",
" ni=len(c_barcelona.find()[i]['data']['relationships']['funding_rounds']['items'])\n",
"\n",
" for j in range(ni):\n",
"\n",
" pl.append(c_barcelona.find()[i]['data']['relationships']['funding_rounds']['items'][j]['path'])\n",
" \n",
"url_list=[]\n",
"\n",
"url_1='http://api.crunchbase.com/v/2/'\n",
"\n",
"for i in range(len(pl)):\n",
"\n",
" url_list.append(url_1 + str(pl[i]) + '?user_key=< your key>')\n",
" \n",
" for i in range(len(url_list)):\n",
"\n",
" try:\n",
"\n",
" rs = requests.get(url_list[i]).json()\n",
"\n",
" except:\n",
"\n",
" print 'Error'\n",
"\n",
" f_barcelona.insert(rs)\n",
"\n",
"Erase some elements with errors.\n",
"\n",
"db.f_barcelona.remove({'data': {u'response': False, u'error': {u'message': u'wrong argument type nil (expected String)', u'code': 500}}})\n",
"\n"
]
},
{
"cell_type": "code",
"collapsed": false,
"input": [
"df4 = DataFrame(columns=['uuid_fund','type','money','currency','year','path_inv'], index=list(range(0,10000)))\n",
"nf=f_barcelona.count()\n",
"f=0\n",
"for i in range(nf):\n",
" if (f_barcelona.find()[i]['data']['relationships']).get('investments','empty') != 'empty':\n",
" ni=len(f_barcelona.find()[i]['data']['relationships']['investments']['items'])\n",
" a1=f_barcelona.find()[i]['data']['uuid']\n",
" a2=f_barcelona.find()[i]['data']['properties']['funding_type']\n",
" if (f_barcelona.find()[i]['data']['properties']).get('money_raised','empty') != 'empty':\n",
" a3=f_barcelona.find()[i]['data']['properties']['money_raised']\n",
" else:\n",
" a3=0\n",
" a4=f_barcelona.find()[i]['data']['properties']['money_raised_currency_code']\n",
" a5=f_barcelona.find()[i]['data']['properties']['announced_on_year']\n",
" for j in range(ni):\n",
" try:\n",
" i\n",
" df4.loc[f]= Series({'uuid_fund':a1,'type':a2,'money':a3/ni,'currency':a4,'year':a5,\n",
" 'path_inv':f_barcelona.find()[i]['data']['relationships']['investments']['items'][j]['investor']['path']})\n",
" f=f+1\n",
" except:\n",
" print 'Companies with errors'\n",
"\n",
"#Total funding in each round is divided by the number of the invertors. \n",
"df4['name'] = df4['path_inv'].map(lambda x: str(x).replace(\"organization/\",\"\"))\n",
"df4['name'] = df4['name'].map(lambda x: str(x).replace(\"person/\",\"\"))\n",
"df4=df4.drop_duplicates()\n",
" "
],
"language": "python",
"metadata": {},
"outputs": [
{
"output_type": "stream",
"stream": "stdout",
"text": [
"Companies with errors\n",
"Companies with errors"
]
},
{
"output_type": "stream",
"stream": "stdout",
"text": [
"\n",
"Companies with errors"
]
},
{
"output_type": "stream",
"stream": "stdout",
"text": [
"\n",
"Companies with errors"
]
},
{
"output_type": "stream",
"stream": "stdout",
"text": [
"\n",
"Companies with errors\n",
"Companies with errors"
]
},
{
"output_type": "stream",
"stream": "stdout",
"text": [
"\n",
"Companies with errors"
]
},
{
"output_type": "stream",
"stream": "stdout",
"text": [
"\n",
"Companies with errors"
]
},
{
"output_type": "stream",
"stream": "stdout",
"text": [
"\n"
]
}
],
"prompt_number": 175
},
{
"cell_type": "heading",
"level": 3,
"metadata": {},
"source": [
"Investor Links: Create collection i_barcelona"
]
},
{
"cell_type": "markdown",
"metadata": {},
"source": [
"li=[]\n",
"\n",
"nf=f_barcelona.count()\n",
"\n",
"for i in range(nf):\n",
"\n",
" if (f_barcelona.find()[i]['data']['relationships']).get('investments','empty') != 'empty':\n",
"\n",
" ni=len(f_barcelona.find()[i]['data']['relationships']['investments']['items'])\n",
"\n",
" for j in range(ni):\n",
"\n",
" try:\n",
"\n",
" li.append(f_barcelona.find()[i]['data']['relationships']['investments']['items'][j]['investor']['path'])\n",
"\n",
" except:\n",
"\n",
" print 'Error'\n",
"\n",
"Remove duplicate elements \n",
"\n",
"a=set(li)\n",
"\n",
"Searching investor uuids\n",
"\n",
"url_list=[]\n",
"\n",
"url_1='http://api.crunchbase.com/v/2/'\n",
"\n",
"for i in range(len(list(set(li)))):\n",
"\n",
" url_list.append(url_1 + str(b[i]) + '?user_key=< your key>')\n",
"\n",
"nl=len(url_list)\n",
"\n",
"for i in range(nl):\n",
"\n",
" try:\n",
"\n",
" rs = requests.get(url_list[i]).json()\n",
"\n",
" except:\n",
"\n",
" print 'Error'\n",
"\n",
" i_barcelona.insert(rs)\n"
]
},
{
"cell_type": "code",
"collapsed": false,
"input": [
"df4.head()"
],
"language": "python",
"metadata": {},
"outputs": [
{
"html": [
"<div style=\"max-height:1000px;max-width:1500px;overflow:auto;\">\n",
"<table border=\"1\" class=\"dataframe\">\n",
" <thead>\n",
" <tr style=\"text-align: right;\">\n",
" <th></th>\n",
" <th>uuid_fund</th>\n",
" <th>type</th>\n",
" <th>money</th>\n",
" <th>currency</th>\n",
" <th>year</th>\n",
" <th>path_inv</th>\n",
" <th>name</th>\n",
" </tr>\n",
" </thead>\n",
" <tbody>\n",
" <tr>\n",
" <th>0</th>\n",
" <td> 421e422d65b93b54d59ba19a465292d9</td>\n",
" <td> venture</td>\n",
" <td> 1250000</td>\n",
" <td> EUR</td>\n",
" <td> 2006</td>\n",
" <td> organization/active-venture-partners</td>\n",
" <td> active-venture-partners</td>\n",
" </tr>\n",
" <tr>\n",
" <th>1</th>\n",
" <td> 421e422d65b93b54d59ba19a465292d9</td>\n",
" <td> venture</td>\n",
" <td> 1250000</td>\n",
" <td> EUR</td>\n",
" <td> 2006</td>\n",
" <td> organization/adara-venture-partners</td>\n",
" <td> adara-venture-partners</td>\n",
" </tr>\n",
" <tr>\n",
" <th>2</th>\n",
" <td> 7a17150c3f14d66358956ac66fe2ea80</td>\n",
" <td> angel</td>\n",
" <td> 73333</td>\n",
" <td> EUR</td>\n",
" <td> 2012</td>\n",
" <td> organization/cabiedes-partners</td>\n",
" <td> cabiedes-partners</td>\n",
" </tr>\n",
" <tr>\n",
" <th>3</th>\n",
" <td> 7a17150c3f14d66358956ac66fe2ea80</td>\n",
" <td> angel</td>\n",
" <td> 73333</td>\n",
" <td> EUR</td>\n",
" <td> 2012</td>\n",
" <td> person/francois-derbaix</td>\n",
" <td> francois-derbaix</td>\n",
" </tr>\n",
" <tr>\n",
" <th>4</th>\n",
" <td> 7a17150c3f14d66358956ac66fe2ea80</td>\n",
" <td> angel</td>\n",
" <td> 73333</td>\n",
" <td> EUR</td>\n",
" <td> 2012</td>\n",
" <td> person/inaki-berenguer</td>\n",
" <td> inaki-berenguer</td>\n",
" </tr>\n",
" </tbody>\n",
"</table>\n",
"</div>"
],
"output_type": "pyout",
"prompt_number": 125,
"text": [
" uuid_fund type money currency year \\\n",
"0 421e422d65b93b54d59ba19a465292d9 venture 1250000 EUR 2006 \n",
"1 421e422d65b93b54d59ba19a465292d9 venture 1250000 EUR 2006 \n",
"2 7a17150c3f14d66358956ac66fe2ea80 angel 73333 EUR 2012 \n",
"3 7a17150c3f14d66358956ac66fe2ea80 angel 73333 EUR 2012 \n",
"4 7a17150c3f14d66358956ac66fe2ea80 angel 73333 EUR 2012 \n",
"\n",
" path_inv name \n",
"0 organization/active-venture-partners active-venture-partners \n",
"1 organization/adara-venture-partners adara-venture-partners \n",
"2 organization/cabiedes-partners cabiedes-partners \n",
"3 person/francois-derbaix francois-derbaix \n",
"4 person/inaki-berenguer inaki-berenguer "
]
}
],
"prompt_number": 125
},
{
"cell_type": "code",
"collapsed": false,
"input": [
"ni=i_barcelona.count()\n",
"df5 = DataFrame(columns=['uuid','name','role'], index=list(range(0,ni)))\n",
"for i in range(ni):\n",
" df5.loc[i] = Series({'uuid': i_barcelona.find()[i]['data']['uuid'],\n",
" 'name':i_barcelona.find()[i]['data']['properties']['permalink'], 'role':'investor'}) \n",
" \n",
"df5=df5.drop_duplicates()\n",
" "
],
"language": "python",
"metadata": {},
"outputs": [],
"prompt_number": 176
},
{
"cell_type": "code",
"collapsed": false,
"input": [
"df5.head()"
],
"language": "python",
"metadata": {},
"outputs": [
{
"html": [
"<div style=\"max-height:1000px;max-width:1500px;overflow:auto;\">\n",
"<table border=\"1\" class=\"dataframe\">\n",
" <thead>\n",
" <tr style=\"text-align: right;\">\n",
" <th></th>\n",
" <th>uuid</th>\n",
" <th>name</th>\n",
" <th>role</th>\n",
" </tr>\n",
" </thead>\n",
" <tbody>\n",
" <tr>\n",
" <th>0</th>\n",
" <td> 3eed4fa46c75fb697f5e17db8092b73b</td>\n",
" <td> viewpoint-capital-partners</td>\n",
" <td> investor</td>\n",
" </tr>\n",
" <tr>\n",
" <th>1</th>\n",
" <td> 56e8dbb001cdbdc3db01d38b3f8ce7d4</td>\n",
" <td> bullnet-gestion</td>\n",
" <td> investor</td>\n",
" </tr>\n",
" <tr>\n",
" <th>2</th>\n",
" <td> 025c7a60c56a47b0ac783b178661ddb7</td>\n",
" <td> pond-ventures</td>\n",
" <td> investor</td>\n",
" </tr>\n",
" <tr>\n",
" <th>3</th>\n",
" <td> e02e9ffcc387327b2339a3f721dbd058</td>\n",
" <td> bbva</td>\n",
" <td> investor</td>\n",
" </tr>\n",
" <tr>\n",
" <th>4</th>\n",
" <td> af37951e36a3ecaa003526db8f967832</td>\n",
" <td> costanoa-venture-capital</td>\n",
" <td> investor</td>\n",
" </tr>\n",
" </tbody>\n",
"</table>\n",
"</div>"
],
"output_type": "pyout",
"prompt_number": 127,
"text": [
" uuid name role\n",
"0 3eed4fa46c75fb697f5e17db8092b73b viewpoint-capital-partners investor\n",
"1 56e8dbb001cdbdc3db01d38b3f8ce7d4 bullnet-gestion investor\n",
"2 025c7a60c56a47b0ac783b178661ddb7 pond-ventures investor\n",
"3 e02e9ffcc387327b2339a3f721dbd058 bbva investor\n",
"4 af37951e36a3ecaa003526db8f967832 costanoa-venture-capital investor"
]
}
],
"prompt_number": 127
},
{
"cell_type": "code",
"collapsed": false,
"input": [
"dfx=df5[['name','role']]\n",
"h = HTML(dfx[0:7].to_html(index=False))\n",
"my_file = open('role_investor.html', 'w')\n",
"my_file.write(h.data)\n",
"my_file.close()"
],
"language": "python",
"metadata": {},
"outputs": [],
"prompt_number": 81
},
{
"cell_type": "heading",
"level": 3,
"metadata": {},
"source": [
"Creating relationship table between companies and investors "
]
},
{
"cell_type": "code",
"collapsed": false,
"input": [
"dfa=df3[['name','uuid_fund']]\n",
"dfb=df4[['name','uuid_fund','type','money','currency','year']]\n",
"dfc=dfa.merge(dfb, on='uuid_fund')\n",
"dfc.columns = ['company', 'link','investor','type','money','currency','year']\n",
"dfc=dfc[['company', 'investor','type','money','currency','year']]"
],
"language": "python",
"metadata": {},
"outputs": [],
"prompt_number": 177
},
{
"cell_type": "code",
"collapsed": false,
"input": [
"dfc.head()"
],
"language": "python",
"metadata": {},
"outputs": [
{
"html": [
"<div style=\"max-height:1000px;max-width:1500px;overflow:auto;\">\n",
"<table border=\"1\" class=\"dataframe\">\n",
" <thead>\n",
" <tr style=\"text-align: right;\">\n",
" <th></th>\n",
" <th>company</th>\n",
" <th>investor</th>\n",
" <th>type</th>\n",
" <th>money</th>\n",
" <th>currency</th>\n",
" <th>year</th>\n",
" </tr>\n",
" </thead>\n",
" <tbody>\n",
" <tr>\n",
" <th>0</th>\n",
" <td> strands</td>\n",
" <td> bbva</td>\n",
" <td> venture</td>\n",
" <td> 24000000</td>\n",
" <td> USD</td>\n",
" <td> 2007</td>\n",
" </tr>\n",
" <tr>\n",
" <th>1</th>\n",
" <td> strands</td>\n",
" <td> antonio-asensio</td>\n",
" <td> venture</td>\n",
" <td> 25000000</td>\n",
" <td> USD</td>\n",
" <td> 2007</td>\n",
" </tr>\n",
" <tr>\n",
" <th>2</th>\n",
" <td> strands</td>\n",
" <td> debaeque</td>\n",
" <td> venture</td>\n",
" <td> 3000000</td>\n",
" <td> USD</td>\n",
" <td> 2006</td>\n",
" </tr>\n",
" <tr>\n",
" <th>3</th>\n",
" <td> strands</td>\n",
" <td> sequel</td>\n",
" <td> venture</td>\n",
" <td> 3000000</td>\n",
" <td> USD</td>\n",
" <td> 2006</td>\n",
" </tr>\n",
" <tr>\n",
" <th>4</th>\n",
" <td> akamon-entertainment</td>\n",
" <td> bonsai-capital</td>\n",
" <td> venture</td>\n",
" <td> 700000</td>\n",
" <td> EUR</td>\n",
" <td> 2013</td>\n",
" </tr>\n",
" </tbody>\n",
"</table>\n",
"</div>"
],
"output_type": "pyout",
"prompt_number": 129,
"text": [
" company investor type money currency year\n",
"0 strands bbva venture 24000000 USD 2007\n",
"1 strands antonio-asensio venture 25000000 USD 2007\n",
"2 strands debaeque venture 3000000 USD 2006\n",
"3 strands sequel venture 3000000 USD 2006\n",
"4 akamon-entertainment bonsai-capital venture 700000 EUR 2013"
]
}
],
"prompt_number": 129
},
{
"cell_type": "heading",
"level": 5,
"metadata": {},
"source": [
"Convert currency to EUR"
]
},
{
"cell_type": "code",
"collapsed": false,
"input": [
"from money import Money\n",
"dfc.money[dfc.currency == 'USD']=dfc.money[dfc.currency == 'USD']*0.79\n",
"dfc.currency=dfc.currency.replace('USD','EUR')\n",
"dfc['money'] = dfc['money'].map(lambda x: Money(x,'EUR'))"
],
"language": "python",
"metadata": {},
"outputs": [],
"prompt_number": 178
},
{
"cell_type": "code",
"collapsed": false,
"input": [
"dfc.head()"
],
"language": "python",
"metadata": {},
"outputs": [
{
"html": [
"<div style=\"max-height:1000px;max-width:1500px;overflow:auto;\">\n",
"<table border=\"1\" class=\"dataframe\">\n",
" <thead>\n",
" <tr style=\"text-align: right;\">\n",
" <th></th>\n",
" <th>company</th>\n",
" <th>investor</th>\n",
" <th>type</th>\n",
" <th>money</th>\n",
" <th>currency</th>\n",
" <th>year</th>\n",
" </tr>\n",
" </thead>\n",
" <tbody>\n",
" <tr>\n",
" <th>0</th>\n",
" <td> strands</td>\n",
" <td> bbva</td>\n",
" <td> venture</td>\n",
" <td> EUR 18,960,000.00</td>\n",
" <td> EUR</td>\n",
" <td> 2007</td>\n",
" </tr>\n",
" <tr>\n",
" <th>1</th>\n",
" <td> strands</td>\n",
" <td> antonio-asensio</td>\n",
" <td> venture</td>\n",
" <td> EUR 19,750,000.00</td>\n",
" <td> EUR</td>\n",
" <td> 2007</td>\n",
" </tr>\n",
" <tr>\n",
" <th>2</th>\n",
" <td> strands</td>\n",
" <td> debaeque</td>\n",
" <td> venture</td>\n",
" <td> EUR 2,370,000.00</td>\n",
" <td> EUR</td>\n",
" <td> 2006</td>\n",
" </tr>\n",
" <tr>\n",
" <th>3</th>\n",
" <td> strands</td>\n",
" <td> sequel</td>\n",
" <td> venture</td>\n",
" <td> EUR 2,370,000.00</td>\n",
" <td> EUR</td>\n",
" <td> 2006</td>\n",
" </tr>\n",
" <tr>\n",
" <th>4</th>\n",
" <td> akamon-entertainment</td>\n",
" <td> bonsai-capital</td>\n",
" <td> venture</td>\n",
" <td> EUR 700,000.00</td>\n",
" <td> EUR</td>\n",
" <td> 2013</td>\n",
" </tr>\n",
" </tbody>\n",
"</table>\n",
"</div>"
],
"output_type": "pyout",
"prompt_number": 131,
"text": [
" company investor type money currency year\n",
"0 strands bbva venture EUR 18,960,000.00 EUR 2007\n",
"1 strands antonio-asensio venture EUR 19,750,000.00 EUR 2007\n",
"2 strands debaeque venture EUR 2,370,000.00 EUR 2006\n",
"3 strands sequel venture EUR 2,370,000.00 EUR 2006\n",
"4 akamon-entertainment bonsai-capital venture EUR 700,000.00 EUR 2013"
]
}
],
"prompt_number": 131
},
{
"cell_type": "code",
"collapsed": false,
"input": [
"dfx=dfc[['company','investor','type','money','year']]\n",
"h = HTML(dfx[0:8].to_html(index=False))\n",
"my_file = open('relation.html', 'w')\n",
"my_file.write(h.data)\n",
"my_file.close()"
],
"language": "python",
"metadata": {},
"outputs": [],
"prompt_number": 132
},
{
"cell_type": "heading",
"level": 2,
"metadata": {},
"source": [
"Analysis"
]
},
{
"cell_type": "heading",
"level": 3,
"metadata": {},
"source": [
"Top 10 companies receiving VC funding:"
]
},
{
"cell_type": "code",
"collapsed": false,
"input": [
"h1=dfc[['company','money']].groupby('company').sum().reset_index()\n",
"h2=h1.sort(['money'],ascending=False)"
],
"language": "python",
"metadata": {},
"outputs": [],
"prompt_number": 382
},
{
"cell_type": "code",
"collapsed": false,
"input": [
"h2.head(n=10)"
],
"language": "python",
"metadata": {},
"outputs": [
{
"html": [
"<div style=\"max-height:1000px;max-width:1500px;overflow:auto;\">\n",
"<table border=\"1\" class=\"dataframe\">\n",
" <thead>\n",
" <tr style=\"text-align: right;\">\n",
" <th></th>\n",
" <th>company</th>\n",
" <th>money</th>\n",
" </tr>\n",
" </thead>\n",
" <tbody>\n",
" <tr>\n",
" <th>95 </th>\n",
" <td> privalia</td>\n",
" <td> EUR 395,668,000.00</td>\n",
" </tr>\n",
" <tr>\n",
" <th>30 </th>\n",
" <td> desigual</td>\n",
" <td> EUR 285,000,000.00</td>\n",
" </tr>\n",
" <tr>\n",
" <th>105</th>\n",
" <td> scytl</td>\n",
" <td> EUR 89,427,998.42</td>\n",
" </tr>\n",
" <tr>\n",
" <th>117</th>\n",
" <td> strands</td>\n",
" <td> EUR 43,450,000.00</td>\n",
" </tr>\n",
" <tr>\n",
" <th>46 </th>\n",
" <td> groupalia</td>\n",
" <td> EUR 35,899,996.00</td>\n",
" </tr>\n",
" <tr>\n",
" <th>112</th>\n",
" <td> social-point</td>\n",
" <td> EUR 34,845,998.42</td>\n",
" </tr>\n",
" <tr>\n",
" <th>8 </th>\n",
" <td> arcplan-information-services-ag</td>\n",
" <td> EUR 26,907,400.00</td>\n",
" </tr>\n",
" <tr>\n",
" <th>82 </th>\n",
" <td> ntr-global</td>\n",
" <td> EUR 26,860,000.00</td>\n",
" </tr>\n",
" <tr>\n",
" <th>43 </th>\n",
" <td> gigle-semiconductor</td>\n",
" <td> EUR 24,489,998.42</td>\n",
" </tr>\n",
" <tr>\n",
" <th>116</th>\n",
" <td> stat-diagnostica</td>\n",
" <td> EUR 24,100,000.00</td>\n",
" </tr>\n",
" </tbody>\n",
"</table>\n",
"</div>"
],
"output_type": "pyout",
"prompt_number": 134,
"text": [
" company money\n",
"95 privalia EUR 395,668,000.00\n",
"30 desigual EUR 285,000,000.00\n",
"105 scytl EUR 89,427,998.42\n",
"117 strands EUR 43,450,000.00\n",
"46 groupalia EUR 35,899,996.00\n",
"112 social-point EUR 34,845,998.42\n",
"8 arcplan-information-services-ag EUR 26,907,400.00\n",
"82 ntr-global EUR 26,860,000.00\n",
"43 gigle-semiconductor EUR 24,489,998.42\n",
"116 stat-diagnostica EUR 24,100,000.00"
]
}
],
"prompt_number": 134
},
{
"cell_type": "code",
"collapsed": false,
"input": [
"a = HTML(h2[0:9].to_html(index=False))\n",
"my_file = open('top10_company.html', 'w')\n",
"my_file.write(a.data)\n",
"my_file.close()"
],
"language": "python",
"metadata": {},
"outputs": [],
"prompt_number": 83
},
{
"cell_type": "heading",
"level": 3,
"metadata": {},
"source": [
"Top 10 investors"
]
},
{
"cell_type": "code",
"collapsed": false,
"input": [
"g1=dfc[['investor','money']].groupby('investor').sum().reset_index()\n",
"g2=g1.sort(['money'],ascending=False)"
],
"language": "python",
"metadata": {},
"outputs": [],
"prompt_number": 180
},
{
"cell_type": "code",
"collapsed": false,
"input": [
"g2.head(n=10)"
],
"language": "python",
"metadata": {},
"outputs": [
{
"html": [
"<div style=\"max-height:1000px;max-width:1500px;overflow:auto;\">\n",
"<table border=\"1\" class=\"dataframe\">\n",
" <thead>\n",
" <tr style=\"text-align: right;\">\n",
" <th></th>\n",
" <th>investor</th>\n",
" <th>money</th>\n",
" </tr>\n",
" </thead>\n",
" <tbody>\n",
" <tr>\n",
" <th>62 </th>\n",
" <td> eurazeo</td>\n",
" <td> EUR 285,000,000.00</td>\n",
" </tr>\n",
" <tr>\n",
" <th>31 </th>\n",
" <td> cabiedes-partners</td>\n",
" <td> EUR 203,989,256.00</td>\n",
" </tr>\n",
" <tr>\n",
" <th>85 </th>\n",
" <td> index-ventures</td>\n",
" <td> EUR 66,547,928.00</td>\n",
" </tr>\n",
" <tr>\n",
" <th>71 </th>\n",
" <td> general-atlantic</td>\n",
" <td> EUR 66,547,928.00</td>\n",
" </tr>\n",
" <tr>\n",
" <th>180</th>\n",
" <td> vulcan-capital</td>\n",
" <td> EUR 31,600,000.00</td>\n",
" </tr>\n",
" <tr>\n",
" <th>88 </th>\n",
" <td> insight-venture-partners</td>\n",
" <td> EUR 29,022,928.00</td>\n",
" </tr>\n",
" <tr>\n",
" <th>161</th>\n",
" <td> sofina</td>\n",
" <td> EUR 25,000,000.00</td>\n",
" </tr>\n",
" <tr>\n",
" <th>81 </th>\n",
" <td> highland-capital-partners</td>\n",
" <td> EUR 24,371,500.00</td>\n",
" </tr>\n",
" <tr>\n",
" <th>126</th>\n",
" <td> nauta-capital</td>\n",
" <td> EUR 23,557,527.14</td>\n",
" </tr>\n",
" <tr>\n",
" <th>175</th>\n",
" <td> venture-investors</td>\n",
" <td> EUR 22,100,000.00</td>\n",
" </tr>\n",
" </tbody>\n",
"</table>\n",
"</div>"
],
"output_type": "pyout",
"prompt_number": 136,
"text": [
" investor money\n",
"62 eurazeo EUR 285,000,000.00\n",
"31 cabiedes-partners EUR 203,989,256.00\n",
"85 index-ventures EUR 66,547,928.00\n",
"71 general-atlantic EUR 66,547,928.00\n",
"180 vulcan-capital EUR 31,600,000.00\n",
"88 insight-venture-partners EUR 29,022,928.00\n",
"161 sofina EUR 25,000,000.00\n",
"81 highland-capital-partners EUR 24,371,500.00\n",
"126 nauta-capital EUR 23,557,527.14\n",
"175 venture-investors EUR 22,100,000.00"
]
}
],
"prompt_number": 136
},
{
"cell_type": "code",
"collapsed": false,
"input": [
"a = HTML(g2[0:9].to_html(index=False))\n",
"my_file = open('top10_investor.html', 'w')\n",
"my_file.write(a.data)\n",
"my_file.close()"
],
"language": "python",
"metadata": {},
"outputs": [],
"prompt_number": 84
},
{
"cell_type": "heading",
"level": 3,
"metadata": {},
"source": [
"Year vs Inversion"
]
},
{
"cell_type": "code",
"collapsed": false,
"input": [
"l1=dfc[['year','money']].groupby('year').sum().reset_index()\n",
"l2=l1.sort(['money'],ascending=False)"
],
"language": "python",
"metadata": {},
"outputs": [],
"prompt_number": 137
},
{
"cell_type": "code",
"collapsed": false,
"input": [
"l2.head()"
],
"language": "python",
"metadata": {},
"outputs": [
{
"html": [
"<div style=\"max-height:1000px;max-width:1500px;overflow:auto;\">\n",
"<table border=\"1\" class=\"dataframe\">\n",
" <thead>\n",
" <tr style=\"text-align: right;\">\n",
" <th></th>\n",
" <th>year</th>\n",
" <th>money</th>\n",
" </tr>\n",
" </thead>\n",
" <tbody>\n",
" <tr>\n",
" <th>9</th>\n",
" <td> 2014</td>\n",
" <td> 4.057950e+08</td>\n",
" </tr>\n",
" <tr>\n",
" <th>6</th>\n",
" <td> 2011</td>\n",
" <td> 3.520405e+08</td>\n",
" </tr>\n",
" <tr>\n",
" <th>5</th>\n",
" <td> 2010</td>\n",
" <td> 1.015254e+08</td>\n",
" </tr>\n",
" <tr>\n",
" <th>8</th>\n",
" <td> 2013</td>\n",
" <td> 9.381874e+07</td>\n",
" </tr>\n",
" <tr>\n",
" <th>2</th>\n",
" <td> 2007</td>\n",
" <td> 7.674140e+07</td>\n",
" </tr>\n",
" </tbody>\n",
"</table>\n",
"</div>"
],
"output_type": "pyout",
"prompt_number": 138,
"text": [
" year money\n",
"9 2014 4.057950e+08\n",
"6 2011 3.520405e+08\n",
"5 2010 1.015254e+08\n",
"8 2013 9.381874e+07\n",
"2 2007 7.674140e+07"
]
}
],
"prompt_number": 138
},
{
"cell_type": "code",
"collapsed": false,
"input": [
"l2.shape"
],
"language": "python",
"metadata": {},
"outputs": [
{
"output_type": "pyout",
"prompt_number": 320,
"text": [
"(10, 2)"
]
}
],
"prompt_number": 320
},
{
"cell_type": "code",
"collapsed": false,
"input": [
"a = HTML(l2[0:9].to_html(index=False))\n",
"my_file = open('top10_year.html', 'w')\n",
"my_file.write(a.data)\n",
"my_file.close()"
],
"language": "python",
"metadata": {},
"outputs": [],
"prompt_number": 85
},
{
"cell_type": "code",
"collapsed": false,
"input": [
"l2.to_csv('fund_year.csv', sep=',', encoding='utf-8',index=False)"
],
"language": "python",
"metadata": {},
"outputs": [],
"prompt_number": 321
},
{
"cell_type": "heading",
"level": 3,
"metadata": {},
"source": [
"Categories"
]
},
{
"cell_type": "code",
"collapsed": false,
"input": [
"co=collections.Counter(df2['category'])"
],
"language": "python",
"metadata": {},
"outputs": [],
"prompt_number": 139
},
{
"cell_type": "code",
"collapsed": false,
"input": [
"co1 = DataFrame(co.items(), columns=['Category', 'Number of Companies'])\n",
"co2=co1.sort(['Number of Companies'],ascending=False)"
],
"language": "python",
"metadata": {},
"outputs": [],
"prompt_number": 140
},
{
"cell_type": "code",
"collapsed": false,
"input": [
"co2.head(n=10)\n",
"# Obs: each company can belong to more than one category."
],
"language": "python",
"metadata": {},
"outputs": [
{
"html": [
"<div style=\"max-height:1000px;max-width:1500px;overflow:auto;\">\n",
"<table border=\"1\" class=\"dataframe\">\n",
" <thead>\n",
" <tr style=\"text-align: right;\">\n",
" <th></th>\n",
" <th>Category</th>\n",
" <th>Number of Companies</th>\n",
" </tr>\n",
" </thead>\n",
" <tbody>\n",
" <tr>\n",
" <th>183</th>\n",
" <td> E-Commerce</td>\n",
" <td> 93</td>\n",
" </tr>\n",
" <tr>\n",
" <th>234</th>\n",
" <td> Software</td>\n",
" <td> 90</td>\n",
" </tr>\n",
" <tr>\n",
" <th>87 </th>\n",
" <td> Mobile</td>\n",
" <td> 86</td>\n",
" </tr>\n",
" <tr>\n",
" <th>152</th>\n",
" <td> Games</td>\n",
" <td> 59</td>\n",
" </tr>\n",
" <tr>\n",
" <th>270</th>\n",
" <td> Internet</td>\n",
" <td> 45</td>\n",
" </tr>\n",
" <tr>\n",
" <th>138</th>\n",
" <td> Enterprise Software</td>\n",
" <td> 45</td>\n",
" </tr>\n",
" <tr>\n",
" <th>210</th>\n",
" <td> Curated Web</td>\n",
" <td> 44</td>\n",
" </tr>\n",
" <tr>\n",
" <th>124</th>\n",
" <td> Apps</td>\n",
" <td> 41</td>\n",
" </tr>\n",
" <tr>\n",
" <th>44 </th>\n",
" <td> Technology</td>\n",
" <td> 41</td>\n",
" </tr>\n",
" <tr>\n",
" <th>153</th>\n",
" <td> Advertising</td>\n",
" <td> 30</td>\n",
" </tr>\n",
" </tbody>\n",
"</table>\n",
"</div>"
],
"output_type": "pyout",
"prompt_number": 141,
"text": [
" Category Number of Companies\n",
"183 E-Commerce 93\n",
"234 Software 90\n",
"87 Mobile 86\n",
"152 Games 59\n",
"270 Internet 45\n",
"138 Enterprise Software 45\n",
"210 Curated Web 44\n",
"124 Apps 41\n",
"44 Technology 41\n",
"153 Advertising 30"
]
}
],
"prompt_number": 141
},
{
"cell_type": "code",
"collapsed": false,
"input": [
"co2[co2.Category =='Startups']"
],
"language": "python",
"metadata": {},
"outputs": [
{
"html": [
"<div style=\"max-height:1000px;max-width:1500px;overflow:auto;\">\n",
"<table border=\"1\" class=\"dataframe\">\n",
" <thead>\n",
" <tr style=\"text-align: right;\">\n",
" <th></th>\n",
" <th>Category</th>\n",
" <th>Number of Companies</th>\n",
" </tr>\n",
" </thead>\n",
" <tbody>\n",
" <tr>\n",
" <th>323</th>\n",
" <td> Startups</td>\n",
" <td> 15</td>\n",
" </tr>\n",
" </tbody>\n",
"</table>\n",
"</div>"
],
"output_type": "pyout",
"prompt_number": 410,
"text": [
" Category Number of Companies\n",
"323 Startups 15"
]
}
],
"prompt_number": 410
},
{
"cell_type": "code",
"collapsed": false,
"input": [
"a = HTML(co2[0:9].to_html(index=False))\n",
"my_file = open('top10_category.html', 'w')\n",
"my_file.write(a.data)\n",
"my_file.close()"
],
"language": "python",
"metadata": {},
"outputs": [],
"prompt_number": 408
},
{
"cell_type": "heading",
"level": 3,
"metadata": {},
"source": [
"Graph Analysis"
]
},
{
"cell_type": "heading",
"level": 4,
"metadata": {},
"source": [
"Relationships (Company - Investor) as Undirected Graph"
]
},
{
"cell_type": "code",
"collapsed": false,
"input": [
"x1=list(dfc['company'])\n",
"x2=list(dfc['investor'])\n",
"y=list(dfc[['company','investor']].itertuples(index=False))\n",
"G=nx.Graph()\n",
"G.add_edges_from(y)\n",
"pos=nx.spring_layout(G)\n",
"nx.draw_networkx_nodes(G,pos,nodelist=x1,node_color='b')\n",
"nx.draw_networkx_nodes(G,pos,nodelist=x2,node_color='r')\n",
"nx.draw_networkx_edges(G,pos)\n",
"nx.draw(G)"
],
"language": "python",
"metadata": {},
"outputs": [
{
"output_type": "display_data",
"png": "[encoded data removed]"
}
],
"prompt_number": 144
},
{
"cell_type": "raw",
"metadata": {},
"source": [
"# View connected components into Graph"
]
},
{
"cell_type": "code",
"collapsed": false,
"input": [
"h=sorted(nx.connected_components(G),key=len,reverse=True)"
],
"language": "python",
"metadata": {},
"outputs": [],
"prompt_number": 25
},
{
"cell_type": "code",
"collapsed": false,
"input": [
"H=G.subgraph(h[1])"
],
"language": "python",
"metadata": {},
"outputs": [],
"prompt_number": 26
},
{
"cell_type": "code",
"collapsed": false,
"input": [
"nx.draw(H, with_labels=True)"
],
"language": "python",
"metadata": {},
"outputs": [
{
"output_type": "display_data",
"png": "[encoded data removed]"
}
],
"prompt_number": 27
},
{
"cell_type": "code",
"collapsed": false,
"input": [
"H=G.subgraph(h[2])"
],
"language": "python",
"metadata": {},
"outputs": [],
"prompt_number": 28
},
{
"cell_type": "code",
"collapsed": false,
"input": [
"nx.draw(H,with_labels=True)"
],
"language": "python",
"metadata": {},
"outputs": [
{
"output_type": "display_data",
"png": "[encoded data removed]"
}
],
"prompt_number": 29
},
{
"cell_type": "heading",
"level": 3,
"metadata": {},
"source": [
"Relationships (Company - Investor) as D\n",
"irected Graph"
]
},
{
"cell_type": "code",
"collapsed": false,
"input": [
"x1=list(dfc['company'])\n",
"x2=list(dfc['investor'])\n",
"y=list(dfc[['investor','company']].itertuples(index=False))\n",
"DG=nx.DiGraph()\n",
"DG.add_edges_from(y)\n",
"pos=nx.spring_layout(DG)\n",
"nx.draw_networkx_nodes(DG,pos,nodelist=x1,node_size=50,node_color= 'g')\n",
"nx.draw_networkx_nodes(DG,pos,nodelist=x2,node_size=80, node_color= 'b')\n",
"nx.draw_networkx_edges(DG,pos)\n",
"plt.axis('off')\n",
"plt.legend([\"Company\", \"Investor\"])\n",
"plt.savefig(\"direct.png\",dpi=1000)\n",
"#nx.draw(G)"
],
"language": "python",
"metadata": {},
"outputs": [
{
"output_type": "display_data",
"png": "[encoded data removed]"
}
],
"prompt_number": 423
},
{
"cell_type": "code",
"collapsed": false,
"input": [
"h=sorted(nx.connected_components(G),key=len,reverse=True)\n",
"#connectec components only work over undirected graphs\n",
"H=DG.subgraph(h[1])\n",
"nx.draw(H,with_labels=True)\n",
"plt.axis('off')\n",
"plt.savefig(\"direct_case.png\",dpi=1000)"
],
"language": "python",
"metadata": {},
"outputs": [
{
"output_type": "display_data",
"png": "[encoded data removed]"
}
],
"prompt_number": 158
},
{
"cell_type": "code",
"collapsed": false,
"input": [
"#The out-degree centrality for a node v is the fraction of nodes its outgoing edges are connected to.\n",
"co3=nx.out_degree_centrality(DG)\n",
"co4=DataFrame(co3.items(), columns=['investor','Degree Centrality'])\n",
"co5=co4.sort(['Degree Centrality'],ascending=False)"
],
"language": "python",
"metadata": {},
"outputs": [],
"prompt_number": 91
},
{
"cell_type": "code",
"collapsed": false,
"input": [
"co5.head(n=10)"
],
"language": "python",
"metadata": {},
"outputs": [
{
"html": [
"<div style=\"max-height:1000px;max-width:1500px;overflow:auto;\">\n",
"<table border=\"1\" class=\"dataframe\">\n",
" <thead>\n",
" <tr style=\"text-align: right;\">\n",
" <th></th>\n",
" <th>investor</th>\n",
" <th>Degree Centrality</th>\n",
" </tr>\n",
" </thead>\n",
" <tbody>\n",
" <tr>\n",
" <th>130</th>\n",
" <td> caixa-capital</td>\n",
" <td> 0.057402</td>\n",
" </tr>\n",
" <tr>\n",
" <th>78 </th>\n",
" <td> cabiedes-partners</td>\n",
" <td> 0.042296</td>\n",
" </tr>\n",
" <tr>\n",
" <th>183</th>\n",
" <td> wayra</td>\n",
" <td> 0.039275</td>\n",
" </tr>\n",
" <tr>\n",
" <th>311</th>\n",
" <td> inveready-technology-investment-group</td>\n",
" <td> 0.033233</td>\n",
" </tr>\n",
" <tr>\n",
" <th>179</th>\n",
" <td> nauta-capital</td>\n",
" <td> 0.027190</td>\n",
" </tr>\n",
" <tr>\n",
" <th>190</th>\n",
" <td> highgrowth</td>\n",
" <td> 0.027190</td>\n",
" </tr>\n",
" <tr>\n",
" <th>35 </th>\n",
" <td> active-venture-partners</td>\n",
" <td> 0.021148</td>\n",
" </tr>\n",
" <tr>\n",
" <th>16 </th>\n",
" <td> kibo-ventures</td>\n",
" <td> 0.018127</td>\n",
" </tr>\n",
" <tr>\n",
" <th>235</th>\n",
" <td> debaeque</td>\n",
" <td> 0.015106</td>\n",
" </tr>\n",
" <tr>\n",
" <th>158</th>\n",
" <td> la-caixa</td>\n",
" <td> 0.012085</td>\n",
" </tr>\n",
" </tbody>\n",
"</table>\n",
"</div>"
],
"output_type": "pyout",
"prompt_number": 92,
"text": [
" investor Degree Centrality\n",
"130 caixa-capital 0.057402\n",
"78 cabiedes-partners 0.042296\n",
"183 wayra 0.039275\n",
"311 inveready-technology-investment-group 0.033233\n",
"179 nauta-capital 0.027190\n",
"190 highgrowth 0.027190\n",
"35 active-venture-partners 0.021148\n",
"16 kibo-ventures 0.018127\n",
"235 debaeque 0.015106\n",
"158 la-caixa 0.012085"
]
}
],
"prompt_number": 92
},
{
"cell_type": "code",
"collapsed": false,
"input": [
"a = HTML(co5[0:9].to_html(index=False))\n",
"my_file = open('d_central_inv.html', 'w')\n",
"my_file.write(a.data)\n",
"my_file.close()"
],
"language": "python",
"metadata": {},
"outputs": [],
"prompt_number": 93
},
{
"cell_type": "code",
"collapsed": false,
"input": [
"#The in-degree centrality for a node v is the fraction of nodes its incoming edges are connected to.\n",
"co3=nx.in_degree_centrality(DG)\n",
"co4=DataFrame(co3.items(), columns=['company','Degree_Centrality'])\n",
"co5=co4.sort(['Degree_Centrality'],ascending=False)"
],
"language": "python",
"metadata": {},
"outputs": [],
"prompt_number": 192
},
{
"cell_type": "code",
"collapsed": false,
"input": [
"co5.head(n=10)"
],
"language": "python",
"metadata": {},
"outputs": [
{
"html": [
"<div style=\"max-height:1000px;max-width:1500px;overflow:auto;\">\n",
"<table border=\"1\" class=\"dataframe\">\n",
" <thead>\n",
" <tr style=\"text-align: right;\">\n",
" <th></th>\n",
" <th>company</th>\n",
" <th>Degree_Centrality</th>\n",
" </tr>\n",
" </thead>\n",
" <tbody>\n",
" <tr>\n",
" <th>93 </th>\n",
" <td> geenapp-internet</td>\n",
" <td> 0.030211</td>\n",
" </tr>\n",
" <tr>\n",
" <th>160</th>\n",
" <td> era-biotech</td>\n",
" <td> 0.027190</td>\n",
" </tr>\n",
" <tr>\n",
" <th>63 </th>\n",
" <td> groupalia</td>\n",
" <td> 0.024169</td>\n",
" </tr>\n",
" <tr>\n",
" <th>178</th>\n",
" <td> scytl</td>\n",
" <td> 0.021148</td>\n",
" </tr>\n",
" <tr>\n",
" <th>28 </th>\n",
" <td> tiendeo</td>\n",
" <td> 0.021148</td>\n",
" </tr>\n",
" <tr>\n",
" <th>218</th>\n",
" <td> nubelo</td>\n",
" <td> 0.018127</td>\n",
" </tr>\n",
" <tr>\n",
" <th>116</th>\n",
" <td> privalia</td>\n",
" <td> 0.018127</td>\n",
" </tr>\n",
" <tr>\n",
" <th>270</th>\n",
" <td> infantium</td>\n",
" <td> 0.018127</td>\n",
" </tr>\n",
" <tr>\n",
" <th>51 </th>\n",
" <td> uvinum</td>\n",
" <td> 0.018127</td>\n",
" </tr>\n",
" <tr>\n",
" <th>43 </th>\n",
" <td> bidaway-com</td>\n",
" <td> 0.015106</td>\n",
" </tr>\n",
" </tbody>\n",
"</table>\n",
"</div>"
],
"output_type": "pyout",
"prompt_number": 193,
"text": [
" company Degree_Centrality\n",
"93 geenapp-internet 0.030211\n",
"160 era-biotech 0.027190\n",
"63 groupalia 0.024169\n",
"178 scytl 0.021148\n",
"28 tiendeo 0.021148\n",
"218 nubelo 0.018127\n",
"116 privalia 0.018127\n",
"270 infantium 0.018127\n",
"51 uvinum 0.018127\n",
"43 bidaway-com 0.015106"
]
}
],
"prompt_number": 193
},
{
"cell_type": "code",
"collapsed": false,
"input": [
"a=co5[co5.Degree_Centrality != 0]\n",
"b=a.merge(h2, on='company')\n",
"x=list(b['Degree_Centrality'])\n",
"y=list(b['money'].astype(float))\n",
"plt.scatter(x,y)\n",
"plt.xlabel('Degree Centrality')\n",
"plt.ylabel('Total Fundraised (EUR)')\n",
"plt.title(r'Degree Centrality vs Total Fundraised')\n",
"plt.show()\n",
"\n",
"\n"
],
"language": "python",
"metadata": {},
"outputs": [
{
"output_type": "display_data",
"png": "[encoded data removed]"
}
],
"prompt_number": 220
},
{
"cell_type": "code",
"collapsed": false,
"input": [
"a = HTML(co5[0:9].to_html(index=False))\n",
"my_file = open('d_central_comp.html', 'w')\n",
"my_file.write(a.data)\n",
"my_file.close()"
],
"language": "python",
"metadata": {},
"outputs": [],
"prompt_number": 95
},
{
"cell_type": "heading",
"level": 2,
"metadata": {},
"source": [
"Save DataFrames "
]
},
{
"cell_type": "code",
"collapsed": false,
"input": [
"dfc.to_csv('barcelona_link.csv', sep=',', encoding='utf-8',index=False)\n",
"\n",
"dfd=df1.append(df5)\n",
"dfd=dfd[['name', 'role']]\n",
"dfd.to_csv('barcelona_role.csv', sep=',', encoding='utf-8',index=False)\n",
"\n",
"dfe=df2[['name','category']]\n",
"dfe.to_csv('barcelona_cat.csv', sep=',', encoding='utf-8',index=False)"
],
"language": "python",
"metadata": {},
"outputs": [],
"prompt_number": 185
},
{
"cell_type": "code",
"collapsed": false,
"input": [
"b.money=b.money.astype(float)\n",
"b.head()"
],
"language": "python",
"metadata": {},
"outputs": [
{
"html": [
"<div style=\"max-height:1000px;max-width:1500px;overflow:auto;\">\n",
"<table border=\"1\" class=\"dataframe\">\n",
" <thead>\n",
" <tr style=\"text-align: right;\">\n",
" <th></th>\n",
" <th>company</th>\n",
" <th>Degree_Centrality</th>\n",
" <th>money</th>\n",
" </tr>\n",
" </thead>\n",
" <tbody>\n",
" <tr>\n",
" <th>0</th>\n",
" <td> geenapp-internet</td>\n",
" <td> 0.030211</td>\n",
" <td> 103000.00</td>\n",
" </tr>\n",
" <tr>\n",
" <th>1</th>\n",
" <td> era-biotech</td>\n",
" <td> 0.027190</td>\n",
" <td> 10469198.42</td>\n",
" </tr>\n",
" <tr>\n",
" <th>2</th>\n",
" <td> groupalia</td>\n",
" <td> 0.024169</td>\n",
" <td> 35899996.00</td>\n",
" </tr>\n",
" <tr>\n",
" <th>3</th>\n",
" <td> scytl</td>\n",
" <td> 0.021148</td>\n",
" <td> 89427998.42</td>\n",
" </tr>\n",
" <tr>\n",
" <th>4</th>\n",
" <td> tiendeo</td>\n",
" <td> 0.021148</td>\n",
" <td> 834995.00</td>\n",
" </tr>\n",
" </tbody>\n",
"</table>\n",
"</div>"
],
"output_type": "pyout",
"prompt_number": 223,
"text": [
" company Degree_Centrality money\n",
"0 geenapp-internet 0.030211 103000.00\n",
"1 era-biotech 0.027190 10469198.42\n",
"2 groupalia 0.024169 35899996.00\n",
"3 scytl 0.021148 89427998.42\n",
"4 tiendeo 0.021148 834995.00"
]
}
],
"prompt_number": 223
},
{
"cell_type": "code",
"collapsed": false,
"input": [
"b.to_csv('deg_central.csv', sep=',', encoding='utf-8',index=False)"
],
"language": "python",
"metadata": {},
"outputs": [],
"prompt_number": 224
},
{
"cell_type": "heading",
"level": 5,
"metadata": {},
"source": [
"Normalization link weight to apply PageRank Algorithm"
]
},
{
"cell_type": "code",
"collapsed": false,
"input": [
"dfc['money']=dfc['money'].astype(float)\n",
"dfc['money'] = (dfc['money'] - dfc['money'].min()) / (dfc['money'].max() - dfc['money'].min())\n",
"y=list(dfc[['investor','company','money']].itertuples(index=False))\n",
"x1=list(dfc['company'])\n",
"x2=list(dfc['investor'])\n",
"dfc.money[dfc.money == 0]=0.00000000000001\n"
],
"language": "python",
"metadata": {},
"outputs": [],
"prompt_number": 265
},
{
"cell_type": "code",
"collapsed": false,
"input": [
"\n",
"DG1=nx.DiGraph()\n",
"DG1.add_weighted_edges_from(y)\n",
"pos=nx.spring_layout(DG1)\n",
"nx.draw_networkx_nodes(DG1,pos,nodelist=x1,node_size=50,node_color= 'g')\n",
"nx.draw_networkx_nodes(DG1,pos,nodelist=x2,node_size=80, node_color= 'b')\n",
"nx.draw_networkx_edges(DG1,pos)"
],
"language": "python",
"metadata": {},
"outputs": [
{
"output_type": "pyout",
"prompt_number": 255,
"text": [
"<matplotlib.collections.LineCollection at 0xad2c36c>"
]
},
{
"output_type": "display_data",
"png": "[encoded data removed]"
}
],
"prompt_number": 255
},
{
"cell_type": "code",
"collapsed": false,
"input": [
"pr=nx.pagerank(DG1)"
],
"language": "python",
"metadata": {},
"outputs": [],
"prompt_number": 309
},
{
"cell_type": "code",
"collapsed": false,
"input": [
"\n",
"m=list(set(x2))\n",
"for i in range(len(m)):\n",
" if m[i] not in x1:\n",
" del pr[m[i]]\n",
"\n",
"\n",
"\n",
"\n"
],
"language": "python",
"metadata": {},
"outputs": [],
"prompt_number": 310
},
{
"cell_type": "code",
"collapsed": false,
"input": [
"co6=DataFrame(pr.items(), columns=['company','pagerank'])\n",
"b=co6.merge(h2, on='company')\n",
"x=list(b['pagerank'])\n",
"y=list(b['money'].astype(float))\n",
"plt.scatter(x,y)\n",
"plt.xlabel('PageRank')\n",
"plt.ylabel('Total Fundraised (EUR)')\n",
"plt.title(r'PageRank vs Total Fundraised')\n",
"plt.show()\n"
],
"language": "python",
"metadata": {},
"outputs": [
{
"output_type": "display_data",
"png": "[encoded data removed]"
}
],
"prompt_number": 315
},
{
"cell_type": "code",
"collapsed": false,
"input": [
"b.money=b.money.astype(float)\n",
"\n"
],
"language": "python",
"metadata": {},
"outputs": [
{
"html": [
"<div style=\"max-height:1000px;max-width:1500px;overflow:auto;\">\n",
"<table border=\"1\" class=\"dataframe\">\n",
" <thead>\n",
" <tr style=\"text-align: right;\">\n",
" <th></th>\n",
" <th>company</th>\n",
" <th>pagerank</th>\n",
" <th>money</th>\n",
" </tr>\n",
" </thead>\n",
" <tbody>\n",
" <tr>\n",
" <th>0</th>\n",
" <td> akamon-entertainment</td>\n",
" <td> 0.006464</td>\n",
" <td> 2800000</td>\n",
" </tr>\n",
" <tr>\n",
" <th>1</th>\n",
" <td> ebdsoft</td>\n",
" <td> 0.002360</td>\n",
" <td> 3594500</td>\n",
" </tr>\n",
" <tr>\n",
" <th>2</th>\n",
" <td> compring</td>\n",
" <td> 0.005577</td>\n",
" <td> 300000</td>\n",
" </tr>\n",
" <tr>\n",
" <th>3</th>\n",
" <td> bettymovil</td>\n",
" <td> 0.002279</td>\n",
" <td> 1580000</td>\n",
" </tr>\n",
" <tr>\n",
" <th>4</th>\n",
" <td> tiendeo</td>\n",
" <td> 0.009005</td>\n",
" <td> 834995</td>\n",
" </tr>\n",
" </tbody>\n",
"</table>\n",
"</div>"
],
"output_type": "pyout",
"prompt_number": 317,
"text": [
" company pagerank money\n",
"0 akamon-entertainment 0.006464 2800000\n",
"1 ebdsoft 0.002360 3594500\n",
"2 compring 0.005577 300000\n",
"3 bettymovil 0.002279 1580000\n",
"4 tiendeo 0.009005 834995"
]
}
],
"prompt_number": 317
},
{
"cell_type": "code",
"collapsed": false,
"input": [
"b.to_csv('pagerank.csv', sep=',', encoding='utf-8',index=False)"
],
"language": "python",
"metadata": {},
"outputs": [],
"prompt_number": 318
},
{
"cell_type": "heading",
"level": 3,
"metadata": {},
"source": [
"Category Score"
]
},
{
"cell_type": "code",
"collapsed": false,
"input": [
"dcat=df2[['name','category']]\n",
"m=list(h2.company)"
],
"language": "python",
"metadata": {},
"outputs": [],
"prompt_number": 383
},
{
"cell_type": "code",
"collapsed": false,
"input": [
"dcat['name']=dcat['name'].apply(lambda x: x if x in m else 'false')\n",
"dc=dcat[dcat.name != 'false']"
],
"language": "python",
"metadata": {},
"outputs": [],
"prompt_number": 384
},
{
"cell_type": "code",
"collapsed": false,
"input": [
"h2['money']=h2['money'].astype(float)\n",
"h2['money'] = (h2['money'] - h2['money'].min()) / (h2['money'].max() - h2['money'].min())"
],
"language": "python",
"metadata": {},
"outputs": [],
"prompt_number": 385
},
{
"cell_type": "code",
"collapsed": false,
"input": [
"rt=dict(zip(h2.company, h2.money))"
],
"language": "python",
"metadata": {},
"outputs": [],
"prompt_number": 387
},
{
"cell_type": "code",
"collapsed": false,
"input": [
"dc['score']=dc['name'].apply(lambda x: rt[x])"
],
"language": "python",
"metadata": {},
"outputs": [],
"prompt_number": 388
},
{
"cell_type": "code",
"collapsed": false,
"input": [
"dc.head(20)"
],
"language": "python",
"metadata": {},
"outputs": [
{
"html": [
"<div style=\"max-height:1000px;max-width:1500px;overflow:auto;\">\n",
"<table border=\"1\" class=\"dataframe\">\n",
" <thead>\n",
" <tr style=\"text-align: right;\">\n",
" <th></th>\n",
" <th>name</th>\n",
" <th>category</th>\n",
" <th>score</th>\n",
" </tr>\n",
" </thead>\n",
" <tbody>\n",
" <tr>\n",
" <th>0 </th>\n",
" <td> strands</td>\n",
" <td> Artificial Intelligence</td>\n",
" <td> 0.109814</td>\n",
" </tr>\n",
" <tr>\n",
" <th>1 </th>\n",
" <td> strands</td>\n",
" <td> Reviews and Recommendations</td>\n",
" <td> 0.109814</td>\n",
" </tr>\n",
" <tr>\n",
" <th>2 </th>\n",
" <td> strands</td>\n",
" <td> Software</td>\n",
" <td> 0.109814</td>\n",
" </tr>\n",
" <tr>\n",
" <th>3 </th>\n",
" <td> strands</td>\n",
" <td> Personal Finance</td>\n",
" <td> 0.109814</td>\n",
" </tr>\n",
" <tr>\n",
" <th>4 </th>\n",
" <td> strands</td>\n",
" <td> E-Commerce</td>\n",
" <td> 0.109814</td>\n",
" </tr>\n",
" <tr>\n",
" <th>5 </th>\n",
" <td> strands</td>\n",
" <td> Personalization</td>\n",
" <td> 0.109814</td>\n",
" </tr>\n",
" <tr>\n",
" <th>7 </th>\n",
" <td> akamon-entertainment</td>\n",
" <td> Games</td>\n",
" <td> 0.007077</td>\n",
" </tr>\n",
" <tr>\n",
" <th>8 </th>\n",
" <td> veeva</td>\n",
" <td> Content</td>\n",
" <td> 0.007986</td>\n",
" </tr>\n",
" <tr>\n",
" <th>9 </th>\n",
" <td> veeva</td>\n",
" <td> Software</td>\n",
" <td> 0.007986</td>\n",
" </tr>\n",
" <tr>\n",
" <th>10</th>\n",
" <td> veeva</td>\n",
" <td> CRM</td>\n",
" <td> 0.007986</td>\n",
" </tr>\n",
" <tr>\n",
" <th>11</th>\n",
" <td> veeva</td>\n",
" <td> Life Sciences</td>\n",
" <td> 0.007986</td>\n",
" </tr>\n",
" <tr>\n",
" <th>12</th>\n",
" <td> veeva</td>\n",
" <td> Enterprise Software</td>\n",
" <td> 0.007986</td>\n",
" </tr>\n",
" <tr>\n",
" <th>13</th>\n",
" <td> 3scale</td>\n",
" <td> Payments</td>\n",
" <td> 0.009983</td>\n",
" </tr>\n",
" <tr>\n",
" <th>14</th>\n",
" <td> 3scale</td>\n",
" <td> Software</td>\n",
" <td> 0.009983</td>\n",
" </tr>\n",
" <tr>\n",
" <th>15</th>\n",
" <td> 3scale</td>\n",
" <td> Infrastructure</td>\n",
" <td> 0.009983</td>\n",
" </tr>\n",
" <tr>\n",
" <th>16</th>\n",
" <td> 3scale</td>\n",
" <td> Developer APIs</td>\n",
" <td> 0.009983</td>\n",
" </tr>\n",
" <tr>\n",
" <th>17</th>\n",
" <td> 3scale</td>\n",
" <td> Services</td>\n",
" <td> 0.009983</td>\n",
" </tr>\n",
" <tr>\n",
" <th>18</th>\n",
" <td> 3scale</td>\n",
" <td> Enterprise Software</td>\n",
" <td> 0.009983</td>\n",
" </tr>\n",
" <tr>\n",
" <th>19</th>\n",
" <td> trovit</td>\n",
" <td> Employment</td>\n",
" <td> 0.003255</td>\n",
" </tr>\n",
" <tr>\n",
" <th>20</th>\n",
" <td> trovit</td>\n",
" <td> Cars</td>\n",
" <td> 0.003255</td>\n",
" </tr>\n",
" </tbody>\n",
"</table>\n",
"</div>"
],
"output_type": "pyout",
"prompt_number": 389,
"text": [
" name category score\n",
"0 strands Artificial Intelligence 0.109814\n",
"1 strands Reviews and Recommendations 0.109814\n",
"2 strands Software 0.109814\n",
"3 strands Personal Finance 0.109814\n",
"4 strands E-Commerce 0.109814\n",
"5 strands Personalization 0.109814\n",
"7 akamon-entertainment Games 0.007077\n",
"8 veeva Content 0.007986\n",
"9 veeva Software 0.007986\n",
"10 veeva CRM 0.007986\n",
"11 veeva Life Sciences 0.007986\n",
"12 veeva Enterprise Software 0.007986\n",
"13 3scale Payments 0.009983\n",
"14 3scale Software 0.009983\n",
"15 3scale Infrastructure 0.009983\n",
"16 3scale Developer APIs 0.009983\n",
"17 3scale Services 0.009983\n",
"18 3scale Enterprise Software 0.009983\n",
"19 trovit Employment 0.003255\n",
"20 trovit Cars 0.003255"
]
}
],
"prompt_number": 389
},
{
"cell_type": "code",
"collapsed": false,
"input": [
"dc1=dc[['category','score']]\n",
"dl1=dc1[['category','score']].groupby('category').sum().reset_index()\n",
"dl2=dl1.sort(['score'],ascending=False)"
],
"language": "python",
"metadata": {},
"outputs": [],
"prompt_number": 390
},
{
"cell_type": "code",
"collapsed": false,
"input": [
"dl2.head(20)"
],
"language": "python",
"metadata": {},
"outputs": [
{
"html": [
"<div style=\"max-height:1000px;max-width:1500px;overflow:auto;\">\n",
"<table border=\"1\" class=\"dataframe\">\n",
" <thead>\n",
" <tr style=\"text-align: right;\">\n",
" <th></th>\n",
" <th>category</th>\n",
" <th>score</th>\n",
" </tr>\n",
" </thead>\n",
" <tbody>\n",
" <tr>\n",
" <th>61 </th>\n",
" <td> Fashion</td>\n",
" <td> 1.721666</td>\n",
" </tr>\n",
" <tr>\n",
" <th>48 </th>\n",
" <td> E-Commerce</td>\n",
" <td> 1.152117</td>\n",
" </tr>\n",
" <tr>\n",
" <th>124</th>\n",
" <td> Retail</td>\n",
" <td> 1.095642</td>\n",
" </tr>\n",
" <tr>\n",
" <th>41 </th>\n",
" <td> Design</td>\n",
" <td> 0.720301</td>\n",
" </tr>\n",
" <tr>\n",
" <th>115</th>\n",
" <td> Printing</td>\n",
" <td> 0.720301</td>\n",
" </tr>\n",
" <tr>\n",
" <th>145</th>\n",
" <td> Software</td>\n",
" <td> 0.581629</td>\n",
" </tr>\n",
" <tr>\n",
" <th>50 </th>\n",
" <td> Electronics</td>\n",
" <td> 0.226776</td>\n",
" </tr>\n",
" <tr>\n",
" <th>86 </th>\n",
" <td> Law Enforcement</td>\n",
" <td> 0.226018</td>\n",
" </tr>\n",
" <tr>\n",
" <th>18 </th>\n",
" <td> Biotechnology</td>\n",
" <td> 0.191800</td>\n",
" </tr>\n",
" <tr>\n",
" <th>55 </th>\n",
" <td> Enterprise Software</td>\n",
" <td> 0.175419</td>\n",
" </tr>\n",
" <tr>\n",
" <th>125</th>\n",
" <td> Reviews and Recommendations</td>\n",
" <td> 0.120252</td>\n",
" </tr>\n",
" <tr>\n",
" <th>9 </th>\n",
" <td> Artificial Intelligence</td>\n",
" <td> 0.109981</td>\n",
" </tr>\n",
" <tr>\n",
" <th>66 </th>\n",
" <td> Games</td>\n",
" <td> 0.109883</td>\n",
" </tr>\n",
" <tr>\n",
" <th>110</th>\n",
" <td> Personalization</td>\n",
" <td> 0.109814</td>\n",
" </tr>\n",
" <tr>\n",
" <th>109</th>\n",
" <td> Personal Finance</td>\n",
" <td> 0.109814</td>\n",
" </tr>\n",
" <tr>\n",
" <th>140</th>\n",
" <td> Social Media</td>\n",
" <td> 0.101359</td>\n",
" </tr>\n",
" <tr>\n",
" <th>96 </th>\n",
" <td> Mobile</td>\n",
" <td> 0.097313</td>\n",
" </tr>\n",
" <tr>\n",
" <th>114</th>\n",
" <td> Price Comparison</td>\n",
" <td> 0.090733</td>\n",
" </tr>\n",
" <tr>\n",
" <th>59 </th>\n",
" <td> Facebook Applications</td>\n",
" <td> 0.088069</td>\n",
" </tr>\n",
" <tr>\n",
" <th>139</th>\n",
" <td> Social Games</td>\n",
" <td> 0.088069</td>\n",
" </tr>\n",
" </tbody>\n",
"</table>\n",
"</div>"
],
"output_type": "pyout",
"prompt_number": 393,
"text": [
" category score\n",
"61 Fashion 1.721666\n",
"48 E-Commerce 1.152117\n",
"124 Retail 1.095642\n",
"41 Design 0.720301\n",
"115 Printing 0.720301\n",
"145 Software 0.581629\n",
"50 Electronics 0.226776\n",
"86 Law Enforcement 0.226018\n",
"18 Biotechnology 0.191800\n",
"55 Enterprise Software 0.175419\n",
"125 Reviews and Recommendations 0.120252\n",
"9 Artificial Intelligence 0.109981\n",
"66 Games 0.109883\n",
"110 Personalization 0.109814\n",
"109 Personal Finance 0.109814\n",
"140 Social Media 0.101359\n",
"96 Mobile 0.097313\n",
"114 Price Comparison 0.090733\n",
"59 Facebook Applications 0.088069\n",
"139 Social Games 0.088069"
]
}
],
"prompt_number": 393
},
{
"cell_type": "code",
"collapsed": false,
"input": [
"dl2['pct']=dl2['score']*100/(dl2.score.sum())\n",
"dl2.head()"
],
"language": "python",
"metadata": {},
"outputs": [
{
"html": [
"<div style=\"max-height:1000px;max-width:1500px;overflow:auto;\">\n",
"<table border=\"1\" class=\"dataframe\">\n",
" <thead>\n",
" <tr style=\"text-align: right;\">\n",
" <th></th>\n",
" <th>category</th>\n",
" <th>score</th>\n",
" <th>pct</th>\n",
" </tr>\n",
" </thead>\n",
" <tbody>\n",
" <tr>\n",
" <th>61 </th>\n",
" <td> Fashion</td>\n",
" <td> 1.721666</td>\n",
" <td> 18.711779</td>\n",
" </tr>\n",
" <tr>\n",
" <th>48 </th>\n",
" <td> E-Commerce</td>\n",
" <td> 1.152117</td>\n",
" <td> 12.521690</td>\n",
" </tr>\n",
" <tr>\n",
" <th>124</th>\n",
" <td> Retail</td>\n",
" <td> 1.095642</td>\n",
" <td> 11.907894</td>\n",
" </tr>\n",
" <tr>\n",
" <th>41 </th>\n",
" <td> Design</td>\n",
" <td> 0.720301</td>\n",
" <td> 7.828530</td>\n",
" </tr>\n",
" <tr>\n",
" <th>115</th>\n",
" <td> Printing</td>\n",
" <td> 0.720301</td>\n",
" <td> 7.828530</td>\n",
" </tr>\n",
" </tbody>\n",
"</table>\n",
"</div>"
],
"output_type": "pyout",
"prompt_number": 397,
"text": [
" category score pct\n",
"61 Fashion 1.721666 18.711779\n",
"48 E-Commerce 1.152117 12.521690\n",
"124 Retail 1.095642 11.907894\n",
"41 Design 0.720301 7.828530\n",
"115 Printing 0.720301 7.828530"
]
}
],
"prompt_number": 397
},
{
"cell_type": "code",
"collapsed": false,
"input": [
"dl2.to_csv('cat_score.csv', sep=',', encoding='utf-8',index=False)"
],
"language": "python",
"metadata": {},
"outputs": [],
"prompt_number": 398
},
{
"cell_type": "code",
"collapsed": false,
"input": [],
"language": "python",
"metadata": {},
"outputs": [],
"prompt_number": 398
},
{
"cell_type": "code",
"collapsed": false,
"input": [],
"language": "python",
"metadata": {},
"outputs": []
}
],
"metadata": {}
}
]
}