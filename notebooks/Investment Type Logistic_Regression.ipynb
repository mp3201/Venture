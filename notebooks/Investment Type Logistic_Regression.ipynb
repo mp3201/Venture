{
 "cells": [
  {
   "cell_type": "markdown",
   "metadata": {},
   "source": [
    "# Logistic Regression"
   ]
  },
  {
   "cell_type": "markdown",
   "metadata": {},
   "source": [
    "#### Classifier will predict the type of investment the company will get"
   ]
  },
  {
   "cell_type": "markdown",
   "metadata": {},
   "source": [
    "### Creating Dataset......"
   ]
  },
  {
   "cell_type": "code",
   "execution_count": 5,
   "metadata": {
    "collapsed": false
   },
   "outputs": [],
   "source": [
    "import pandas as pd\n",
    "import numpy as np\n",
    "from sklearn.cross_validation import train_test_split\n",
    "import matplotlib.pyplot as plt\n",
    "import plotly.plotly as py"
   ]
  },
  {
   "cell_type": "code",
   "execution_count": 9,
   "metadata": {
    "collapsed": false
   },
   "outputs": [],
   "source": [
    "Companies = pd.read_csv('C:/Users/mphan21/Google Drive/Research/projects/Venture/data/Companies.csv')"
   ]
  },
  {
   "cell_type": "code",
   "execution_count": 10,
   "metadata": {
    "collapsed": false
   },
   "outputs": [
    {
     "name": "stdout",
     "output_type": "stream",
     "text": [
      "Index([u'name', u'category_code', u'funding_total_usd', u'status',\n",
      "       u'country_code', u'state_code', u'region', u'city', u'funding_rounds',\n",
      "       u'founded_year'],\n",
      "      dtype='object')\n"
     ]
    }
   ],
   "source": [
    "print Companies.columns"
   ]
  },
  {
   "cell_type": "code",
   "execution_count": 11,
   "metadata": {
    "collapsed": false
   },
   "outputs": [],
   "source": [
    "Companies.drop(['funding_rounds','founded_year'],axis=1,inplace=True)"
   ]
  },
  {
   "cell_type": "code",
   "execution_count": 12,
   "metadata": {
    "collapsed": false
   },
   "outputs": [
    {
     "name": "stdout",
     "output_type": "stream",
     "text": [
      "37875\n",
      "37875\n",
      "750,000\n"
     ]
    }
   ],
   "source": [
    "print len(Companies)\n",
    "print len(np.unique(Companies['name']))\n",
    "print Companies['funding_total_usd'][0]"
   ]
  },
  {
   "cell_type": "code",
   "execution_count": 13,
   "metadata": {
    "collapsed": false
   },
   "outputs": [],
   "source": [
    "Rounds = pd.read_csv('C:/Users/mphan21/Google Drive/Research/projects/Venture/data/Rounds.csv')"
   ]
  },
  {
   "cell_type": "code",
   "execution_count": 14,
   "metadata": {
    "collapsed": false
   },
   "outputs": [
    {
     "name": "stdout",
     "output_type": "stream",
     "text": [
      "Index([u'company_name', u'funding_round_type', u'funded_year',\n",
      "       u' raised_amount_usd '],\n",
      "      dtype='object')\n"
     ]
    }
   ],
   "source": [
    "print Rounds.columns"
   ]
  },
  {
   "cell_type": "code",
   "execution_count": 15,
   "metadata": {
    "collapsed": true
   },
   "outputs": [],
   "source": [
    "Rounds.rename(columns={'company_name':'name'},inplace=True)"
   ]
  },
  {
   "cell_type": "code",
   "execution_count": 16,
   "metadata": {
    "collapsed": false
   },
   "outputs": [
    {
     "name": "stdout",
     "output_type": "stream",
     "text": [
      "Index([u'name', u'funding_round_type', u'funded_year', u' raised_amount_usd '], dtype='object')\n"
     ]
    }
   ],
   "source": [
    "print Rounds.columns"
   ]
  },
  {
   "cell_type": "code",
   "execution_count": 17,
   "metadata": {
    "collapsed": false
   },
   "outputs": [
    {
     "name": "stdout",
     "output_type": "stream",
     "text": [
      "['angel' 'crowdfunding' 'other' 'post-ipo' 'private-equity' 'series-a'\n",
      " 'series-b' 'series-c+' 'venture']\n"
     ]
    }
   ],
   "source": [
    "print np.unique(Rounds.funding_round_type)"
   ]
  },
  {
   "cell_type": "code",
   "execution_count": 18,
   "metadata": {
    "collapsed": false
   },
   "outputs": [],
   "source": [
    "data = pd.merge(Companies,Rounds,how='inner',on='name')"
   ]
  },
  {
   "cell_type": "code",
   "execution_count": 19,
   "metadata": {
    "collapsed": false
   },
   "outputs": [
    {
     "name": "stdout",
     "output_type": "stream",
     "text": [
      "Index([u'name', u'category_code', u'funding_total_usd', u'status',\n",
      "       u'country_code', u'state_code', u'region', u'city',\n",
      "       u'funding_round_type', u'funded_year', u' raised_amount_usd '],\n",
      "      dtype='object')\n",
      "64107\n"
     ]
    }
   ],
   "source": [
    "print data.columns\n",
    "print len(data)"
   ]
  },
  {
   "cell_type": "code",
   "execution_count": 20,
   "metadata": {
    "collapsed": false
   },
   "outputs": [],
   "source": [
    "data.drop(['name','funded_year',' raised_amount_usd ','funding_total_usd'],axis=1,inplace=True)"
   ]
  },
  {
   "cell_type": "markdown",
   "metadata": {},
   "source": [
    "#### Encoding the categorical features into integers......."
   ]
  },
  {
   "cell_type": "code",
   "execution_count": 21,
   "metadata": {
    "collapsed": false
   },
   "outputs": [],
   "source": [
    "def onehotencode_toIntegers(data):\n",
    "    \n",
    "    unique_tokens=np.unique(data['category_code']).copy()\n",
    "    print \"encoding categories...\",len(unique_tokens)\n",
    "    for index,value in enumerate(unique_tokens):\n",
    "        data['category_code'][data['category_code']==value] = index\n",
    "\n",
    "    unique_tokens=np.unique(data['status']).copy()\n",
    "    print \"encoding status....\",len(unique_tokens)\n",
    "    for index,value in enumerate(unique_tokens):\n",
    "        data['status'][data['status']==value] = index\n",
    "        \n",
    "    unique_tokens=np.unique(data['country_code']).copy()\n",
    "    print \"encoding countries....\",len(unique_tokens)\n",
    "    for index,value in enumerate(unique_tokens):\n",
    "        data['country_code'][data['country_code']==value] = index\n",
    "        \n",
    "    unique_tokens=np.unique(data['state_code']).copy()\n",
    "    print \"encoding states....\",len(unique_tokens)\n",
    "    for index,value in enumerate(unique_tokens):\n",
    "        data['state_code'][data['state_code']==value] = index\n",
    "        \n",
    "    unique_tokens=np.unique(data['region']).copy()\n",
    "    print \"encoding regions....\",len(unique_tokens)\n",
    "    for index,value in enumerate(unique_tokens):\n",
    "        data['region'][data['region']==value] = index\n",
    "        \n",
    "    unique_tokens=np.unique(data['city']).copy()\n",
    "    print \"encoding cities....\",len(unique_tokens)\n",
    "    for index,value in enumerate(unique_tokens):\n",
    "        data['city'][data['city']==value] = index\n",
    "        \n",
    "    unique_tokens=np.unique(data['funding_round_type']).copy()\n",
    "    print \"encoding funding_round_type.....\",len(unique_tokens)\n",
    "    print \"unique labels : \",unique_tokens\n",
    "    for index,value in enumerate(unique_tokens):\n",
    "        data['funding_round_type'][data['funding_round_type']==value] = index\n",
    "    \n",
    "    data.to_csv(\"C:/Users/mphan21/Google Drive/Research/projects/Venture/data/output.csv\")    \n",
    "    "
   ]
  },
  {
   "cell_type": "code",
   "execution_count": 22,
   "metadata": {
    "collapsed": false
   },
   "outputs": [
    {
     "name": "stdout",
     "output_type": "stream",
     "text": [
      "Index([u'category_code', u'status', u'country_code', u'state_code', u'region',\n",
      "       u'city', u'funding_round_type'],\n",
      "      dtype='object')\n"
     ]
    }
   ],
   "source": [
    "print data.columns"
   ]
  },
  {
   "cell_type": "code",
   "execution_count": 23,
   "metadata": {
    "collapsed": false
   },
   "outputs": [
    {
     "name": "stderr",
     "output_type": "stream",
     "text": [
      "C:\\Users\\mphan21\\AppData\\Local\\Continuum\\Anaconda2\\lib\\site-packages\\ipykernel\\__main__.py:1: FutureWarning:\n",
      "\n",
      "sort(columns=....) is deprecated, use sort_values(by=.....)\n",
      "\n"
     ]
    },
    {
     "data": {
      "text/html": [
       "<div>\n",
       "<table border=\"1\" class=\"dataframe\">\n",
       "  <thead>\n",
       "    <tr style=\"text-align: right;\">\n",
       "      <th></th>\n",
       "      <th>category_code</th>\n",
       "      <th>status</th>\n",
       "      <th>country_code</th>\n",
       "      <th>state_code</th>\n",
       "      <th>region</th>\n",
       "      <th>city</th>\n",
       "      <th>funding_round_type</th>\n",
       "    </tr>\n",
       "  </thead>\n",
       "  <tbody>\n",
       "    <tr>\n",
       "      <th>30320</th>\n",
       "      <td>manufacturing</td>\n",
       "      <td>operating</td>\n",
       "      <td>USA</td>\n",
       "      <td>CA</td>\n",
       "      <td>SF Bay</td>\n",
       "      <td>LOS ALTOS HILLS</td>\n",
       "      <td>angel</td>\n",
       "    </tr>\n",
       "    <tr>\n",
       "      <th>30319</th>\n",
       "      <td>manufacturing</td>\n",
       "      <td>operating</td>\n",
       "      <td>USA</td>\n",
       "      <td>CA</td>\n",
       "      <td>SF Bay</td>\n",
       "      <td>LOS ALTOS HILLS</td>\n",
       "      <td>angel</td>\n",
       "    </tr>\n",
       "    <tr>\n",
       "      <th>30262</th>\n",
       "      <td>mobile</td>\n",
       "      <td>operating</td>\n",
       "      <td>USA</td>\n",
       "      <td>CA</td>\n",
       "      <td>SF Bay</td>\n",
       "      <td>San Francisco</td>\n",
       "      <td>angel</td>\n",
       "    </tr>\n",
       "    <tr>\n",
       "      <th>30261</th>\n",
       "      <td>mobile</td>\n",
       "      <td>operating</td>\n",
       "      <td>USA</td>\n",
       "      <td>CA</td>\n",
       "      <td>SF Bay</td>\n",
       "      <td>San Francisco</td>\n",
       "      <td>angel</td>\n",
       "    </tr>\n",
       "    <tr>\n",
       "      <th>30258</th>\n",
       "      <td>software</td>\n",
       "      <td>operating</td>\n",
       "      <td>USA</td>\n",
       "      <td>CA</td>\n",
       "      <td>San Diego</td>\n",
       "      <td>Carlsbad</td>\n",
       "      <td>angel</td>\n",
       "    </tr>\n",
       "    <tr>\n",
       "      <th>30255</th>\n",
       "      <td>consulting</td>\n",
       "      <td>operating</td>\n",
       "      <td>USA</td>\n",
       "      <td>IL</td>\n",
       "      <td>Chicago</td>\n",
       "      <td>Chicago</td>\n",
       "      <td>angel</td>\n",
       "    </tr>\n",
       "    <tr>\n",
       "      <th>30304</th>\n",
       "      <td>enterprise</td>\n",
       "      <td>operating</td>\n",
       "      <td>USA</td>\n",
       "      <td>CO</td>\n",
       "      <td>Denver</td>\n",
       "      <td>Boulder</td>\n",
       "      <td>angel</td>\n",
       "    </tr>\n",
       "    <tr>\n",
       "      <th>30449</th>\n",
       "      <td>advertising</td>\n",
       "      <td>operating</td>\n",
       "      <td>USA</td>\n",
       "      <td>CA</td>\n",
       "      <td>SF Bay</td>\n",
       "      <td>Mountain View</td>\n",
       "      <td>angel</td>\n",
       "    </tr>\n",
       "    <tr>\n",
       "      <th>30438</th>\n",
       "      <td>social</td>\n",
       "      <td>operating</td>\n",
       "      <td>USA</td>\n",
       "      <td>NY</td>\n",
       "      <td>New York</td>\n",
       "      <td>New York</td>\n",
       "      <td>angel</td>\n",
       "    </tr>\n",
       "    <tr>\n",
       "      <th>30409</th>\n",
       "      <td>other</td>\n",
       "      <td>operating</td>\n",
       "      <td>USA</td>\n",
       "      <td>CO</td>\n",
       "      <td>Denver</td>\n",
       "      <td>Englewood</td>\n",
       "      <td>angel</td>\n",
       "    </tr>\n",
       "    <tr>\n",
       "      <th>30355</th>\n",
       "      <td>software</td>\n",
       "      <td>operating</td>\n",
       "      <td>USA</td>\n",
       "      <td>TX</td>\n",
       "      <td>Austin</td>\n",
       "      <td>Austin</td>\n",
       "      <td>angel</td>\n",
       "    </tr>\n",
       "    <tr>\n",
       "      <th>30407</th>\n",
       "      <td>social</td>\n",
       "      <td>operating</td>\n",
       "      <td>USA</td>\n",
       "      <td>IL</td>\n",
       "      <td>Chicago</td>\n",
       "      <td>Chicago</td>\n",
       "      <td>angel</td>\n",
       "    </tr>\n",
       "    <tr>\n",
       "      <th>30392</th>\n",
       "      <td>design</td>\n",
       "      <td>acquired</td>\n",
       "      <td>USA</td>\n",
       "      <td>NY</td>\n",
       "      <td>New York</td>\n",
       "      <td>New York City</td>\n",
       "      <td>angel</td>\n",
       "    </tr>\n",
       "    <tr>\n",
       "      <th>30387</th>\n",
       "      <td>mobile</td>\n",
       "      <td>operating</td>\n",
       "      <td>USA</td>\n",
       "      <td>MI</td>\n",
       "      <td>Detroit</td>\n",
       "      <td>Ann Arbor</td>\n",
       "      <td>angel</td>\n",
       "    </tr>\n",
       "    <tr>\n",
       "      <th>30386</th>\n",
       "      <td>hardware</td>\n",
       "      <td>operating</td>\n",
       "      <td>USA</td>\n",
       "      <td>CA</td>\n",
       "      <td>SF Bay</td>\n",
       "      <td>Mountain View</td>\n",
       "      <td>angel</td>\n",
       "    </tr>\n",
       "    <tr>\n",
       "      <th>30383</th>\n",
       "      <td>ecommerce</td>\n",
       "      <td>operating</td>\n",
       "      <td>USA</td>\n",
       "      <td>PA</td>\n",
       "      <td>Philadelphia</td>\n",
       "      <td>Philadelphia</td>\n",
       "      <td>angel</td>\n",
       "    </tr>\n",
       "    <tr>\n",
       "      <th>30373</th>\n",
       "      <td>sports</td>\n",
       "      <td>operating</td>\n",
       "      <td>DNK</td>\n",
       "      <td>CA</td>\n",
       "      <td>SF Bay</td>\n",
       "      <td>Palo Alto</td>\n",
       "      <td>angel</td>\n",
       "    </tr>\n",
       "    <tr>\n",
       "      <th>30453</th>\n",
       "      <td>news</td>\n",
       "      <td>acquired</td>\n",
       "      <td>USA</td>\n",
       "      <td>CA</td>\n",
       "      <td>SF Bay</td>\n",
       "      <td>Mountain View</td>\n",
       "      <td>angel</td>\n",
       "    </tr>\n",
       "    <tr>\n",
       "      <th>30160</th>\n",
       "      <td>biotech</td>\n",
       "      <td>operating</td>\n",
       "      <td>USA</td>\n",
       "      <td>MO</td>\n",
       "      <td>Saint Louis</td>\n",
       "      <td>St. Louis</td>\n",
       "      <td>angel</td>\n",
       "    </tr>\n",
       "    <tr>\n",
       "      <th>30159</th>\n",
       "      <td>search</td>\n",
       "      <td>operating</td>\n",
       "      <td>USA</td>\n",
       "      <td>CA</td>\n",
       "      <td>SF Bay</td>\n",
       "      <td>Sunnyvale</td>\n",
       "      <td>angel</td>\n",
       "    </tr>\n",
       "    <tr>\n",
       "      <th>30158</th>\n",
       "      <td>search</td>\n",
       "      <td>operating</td>\n",
       "      <td>USA</td>\n",
       "      <td>CA</td>\n",
       "      <td>SF Bay</td>\n",
       "      <td>Sunnyvale</td>\n",
       "      <td>angel</td>\n",
       "    </tr>\n",
       "    <tr>\n",
       "      <th>30157</th>\n",
       "      <td>search</td>\n",
       "      <td>operating</td>\n",
       "      <td>USA</td>\n",
       "      <td>CA</td>\n",
       "      <td>SF Bay</td>\n",
       "      <td>Sunnyvale</td>\n",
       "      <td>angel</td>\n",
       "    </tr>\n",
       "    <tr>\n",
       "      <th>30153</th>\n",
       "      <td>advertising</td>\n",
       "      <td>operating</td>\n",
       "      <td>USA</td>\n",
       "      <td>CO</td>\n",
       "      <td>Denver</td>\n",
       "      <td>Broomfield</td>\n",
       "      <td>angel</td>\n",
       "    </tr>\n",
       "    <tr>\n",
       "      <th>30140</th>\n",
       "      <td>health</td>\n",
       "      <td>operating</td>\n",
       "      <td>USA</td>\n",
       "      <td>CA</td>\n",
       "      <td>SF Bay</td>\n",
       "      <td>Palo Alto</td>\n",
       "      <td>angel</td>\n",
       "    </tr>\n",
       "    <tr>\n",
       "      <th>30139</th>\n",
       "      <td>other</td>\n",
       "      <td>operating</td>\n",
       "      <td>USA</td>\n",
       "      <td>RI</td>\n",
       "      <td>Providence</td>\n",
       "      <td>Providence</td>\n",
       "      <td>angel</td>\n",
       "    </tr>\n",
       "    <tr>\n",
       "      <th>30138</th>\n",
       "      <td>other</td>\n",
       "      <td>operating</td>\n",
       "      <td>USA</td>\n",
       "      <td>RI</td>\n",
       "      <td>Providence</td>\n",
       "      <td>Providence</td>\n",
       "      <td>angel</td>\n",
       "    </tr>\n",
       "    <tr>\n",
       "      <th>30137</th>\n",
       "      <td>other</td>\n",
       "      <td>operating</td>\n",
       "      <td>USA</td>\n",
       "      <td>RI</td>\n",
       "      <td>Providence</td>\n",
       "      <td>Providence</td>\n",
       "      <td>angel</td>\n",
       "    </tr>\n",
       "    <tr>\n",
       "      <th>30136</th>\n",
       "      <td>other</td>\n",
       "      <td>operating</td>\n",
       "      <td>USA</td>\n",
       "      <td>RI</td>\n",
       "      <td>Providence</td>\n",
       "      <td>Providence</td>\n",
       "      <td>angel</td>\n",
       "    </tr>\n",
       "    <tr>\n",
       "      <th>30135</th>\n",
       "      <td>other</td>\n",
       "      <td>operating</td>\n",
       "      <td>USA</td>\n",
       "      <td>RI</td>\n",
       "      <td>Providence</td>\n",
       "      <td>Providence</td>\n",
       "      <td>angel</td>\n",
       "    </tr>\n",
       "    <tr>\n",
       "      <th>30106</th>\n",
       "      <td>ecommerce</td>\n",
       "      <td>operating</td>\n",
       "      <td>USA</td>\n",
       "      <td>IL</td>\n",
       "      <td>Chicago</td>\n",
       "      <td>Chicago</td>\n",
       "      <td>angel</td>\n",
       "    </tr>\n",
       "    <tr>\n",
       "      <th>...</th>\n",
       "      <td>...</td>\n",
       "      <td>...</td>\n",
       "      <td>...</td>\n",
       "      <td>...</td>\n",
       "      <td>...</td>\n",
       "      <td>...</td>\n",
       "      <td>...</td>\n",
       "    </tr>\n",
       "    <tr>\n",
       "      <th>21806</th>\n",
       "      <td>biotech</td>\n",
       "      <td>operating</td>\n",
       "      <td>USA</td>\n",
       "      <td>NC</td>\n",
       "      <td>Raleigh-Durham</td>\n",
       "      <td>Durham</td>\n",
       "      <td>venture</td>\n",
       "    </tr>\n",
       "    <tr>\n",
       "      <th>21807</th>\n",
       "      <td>biotech</td>\n",
       "      <td>operating</td>\n",
       "      <td>USA</td>\n",
       "      <td>GA</td>\n",
       "      <td>Atlanta</td>\n",
       "      <td>Norcross</td>\n",
       "      <td>venture</td>\n",
       "    </tr>\n",
       "    <tr>\n",
       "      <th>28108</th>\n",
       "      <td>network_hosting</td>\n",
       "      <td>acquired</td>\n",
       "      <td>USA</td>\n",
       "      <td>IL</td>\n",
       "      <td>Chicago</td>\n",
       "      <td>Oak Brook</td>\n",
       "      <td>venture</td>\n",
       "    </tr>\n",
       "    <tr>\n",
       "      <th>9522</th>\n",
       "      <td>hospitality</td>\n",
       "      <td>operating</td>\n",
       "      <td>USA</td>\n",
       "      <td>CA</td>\n",
       "      <td>Los Angeles</td>\n",
       "      <td>IRVINE</td>\n",
       "      <td>venture</td>\n",
       "    </tr>\n",
       "    <tr>\n",
       "      <th>21810</th>\n",
       "      <td>biotech</td>\n",
       "      <td>acquired</td>\n",
       "      <td>USA</td>\n",
       "      <td>CA</td>\n",
       "      <td>SF Bay</td>\n",
       "      <td>Redwood City</td>\n",
       "      <td>venture</td>\n",
       "    </tr>\n",
       "    <tr>\n",
       "      <th>21811</th>\n",
       "      <td>biotech</td>\n",
       "      <td>acquired</td>\n",
       "      <td>USA</td>\n",
       "      <td>CA</td>\n",
       "      <td>SF Bay</td>\n",
       "      <td>Redwood City</td>\n",
       "      <td>venture</td>\n",
       "    </tr>\n",
       "    <tr>\n",
       "      <th>21812</th>\n",
       "      <td>biotech</td>\n",
       "      <td>operating</td>\n",
       "      <td>USA</td>\n",
       "      <td>FL</td>\n",
       "      <td>Orlando</td>\n",
       "      <td>ORLANDO</td>\n",
       "      <td>venture</td>\n",
       "    </tr>\n",
       "    <tr>\n",
       "      <th>48321</th>\n",
       "      <td>messaging</td>\n",
       "      <td>acquired</td>\n",
       "      <td>USA</td>\n",
       "      <td>NY</td>\n",
       "      <td>New York</td>\n",
       "      <td>New York</td>\n",
       "      <td>venture</td>\n",
       "    </tr>\n",
       "    <tr>\n",
       "      <th>21813</th>\n",
       "      <td>biotech</td>\n",
       "      <td>operating</td>\n",
       "      <td>USA</td>\n",
       "      <td>FL</td>\n",
       "      <td>Orlando</td>\n",
       "      <td>ORLANDO</td>\n",
       "      <td>venture</td>\n",
       "    </tr>\n",
       "    <tr>\n",
       "      <th>48319</th>\n",
       "      <td>medical</td>\n",
       "      <td>operating</td>\n",
       "      <td>USA</td>\n",
       "      <td>NM</td>\n",
       "      <td>unknown</td>\n",
       "      <td>Suite A3 Santa Fe</td>\n",
       "      <td>venture</td>\n",
       "    </tr>\n",
       "    <tr>\n",
       "      <th>21814</th>\n",
       "      <td>biotech</td>\n",
       "      <td>operating</td>\n",
       "      <td>USA</td>\n",
       "      <td>FL</td>\n",
       "      <td>Orlando</td>\n",
       "      <td>ORLANDO</td>\n",
       "      <td>venture</td>\n",
       "    </tr>\n",
       "    <tr>\n",
       "      <th>48317</th>\n",
       "      <td>hospitality</td>\n",
       "      <td>acquired</td>\n",
       "      <td>USA</td>\n",
       "      <td>NY</td>\n",
       "      <td>New York</td>\n",
       "      <td>New York</td>\n",
       "      <td>venture</td>\n",
       "    </tr>\n",
       "    <tr>\n",
       "      <th>21815</th>\n",
       "      <td>biotech</td>\n",
       "      <td>operating</td>\n",
       "      <td>USA</td>\n",
       "      <td>FL</td>\n",
       "      <td>Orlando</td>\n",
       "      <td>ORLANDO</td>\n",
       "      <td>venture</td>\n",
       "    </tr>\n",
       "    <tr>\n",
       "      <th>48315</th>\n",
       "      <td>hospitality</td>\n",
       "      <td>acquired</td>\n",
       "      <td>USA</td>\n",
       "      <td>NY</td>\n",
       "      <td>New York</td>\n",
       "      <td>New York</td>\n",
       "      <td>venture</td>\n",
       "    </tr>\n",
       "    <tr>\n",
       "      <th>11023</th>\n",
       "      <td>ecommerce</td>\n",
       "      <td>operating</td>\n",
       "      <td>USA</td>\n",
       "      <td>CA</td>\n",
       "      <td>SF Bay</td>\n",
       "      <td>San Francisco</td>\n",
       "      <td>venture</td>\n",
       "    </tr>\n",
       "    <tr>\n",
       "      <th>4285</th>\n",
       "      <td>web</td>\n",
       "      <td>operating</td>\n",
       "      <td>USA</td>\n",
       "      <td>MN</td>\n",
       "      <td>Minneapolis</td>\n",
       "      <td>Minnetonka</td>\n",
       "      <td>venture</td>\n",
       "    </tr>\n",
       "    <tr>\n",
       "      <th>4284</th>\n",
       "      <td>other</td>\n",
       "      <td>operating</td>\n",
       "      <td>USA</td>\n",
       "      <td>NJ</td>\n",
       "      <td>Fairfield</td>\n",
       "      <td>Fairfield</td>\n",
       "      <td>venture</td>\n",
       "    </tr>\n",
       "    <tr>\n",
       "      <th>48363</th>\n",
       "      <td>search</td>\n",
       "      <td>operating</td>\n",
       "      <td>USA</td>\n",
       "      <td>NY</td>\n",
       "      <td>New York</td>\n",
       "      <td>New York</td>\n",
       "      <td>venture</td>\n",
       "    </tr>\n",
       "    <tr>\n",
       "      <th>48362</th>\n",
       "      <td>search</td>\n",
       "      <td>operating</td>\n",
       "      <td>USA</td>\n",
       "      <td>NY</td>\n",
       "      <td>New York</td>\n",
       "      <td>New York</td>\n",
       "      <td>venture</td>\n",
       "    </tr>\n",
       "    <tr>\n",
       "      <th>48361</th>\n",
       "      <td>search</td>\n",
       "      <td>operating</td>\n",
       "      <td>USA</td>\n",
       "      <td>NY</td>\n",
       "      <td>New York</td>\n",
       "      <td>New York</td>\n",
       "      <td>venture</td>\n",
       "    </tr>\n",
       "    <tr>\n",
       "      <th>4278</th>\n",
       "      <td>software</td>\n",
       "      <td>operating</td>\n",
       "      <td>USA</td>\n",
       "      <td>MA</td>\n",
       "      <td>Boston</td>\n",
       "      <td>Cambridge</td>\n",
       "      <td>venture</td>\n",
       "    </tr>\n",
       "    <tr>\n",
       "      <th>48354</th>\n",
       "      <td>biotech</td>\n",
       "      <td>operating</td>\n",
       "      <td>USA</td>\n",
       "      <td>MA</td>\n",
       "      <td>Boston</td>\n",
       "      <td>Cambridge</td>\n",
       "      <td>venture</td>\n",
       "    </tr>\n",
       "    <tr>\n",
       "      <th>21799</th>\n",
       "      <td>biotech</td>\n",
       "      <td>closed</td>\n",
       "      <td>USA</td>\n",
       "      <td>VA</td>\n",
       "      <td>Charlottesville</td>\n",
       "      <td>Charlottesville</td>\n",
       "      <td>venture</td>\n",
       "    </tr>\n",
       "    <tr>\n",
       "      <th>7307</th>\n",
       "      <td>software</td>\n",
       "      <td>operating</td>\n",
       "      <td>USA</td>\n",
       "      <td>TX</td>\n",
       "      <td>Dallas</td>\n",
       "      <td>Dallas</td>\n",
       "      <td>venture</td>\n",
       "    </tr>\n",
       "    <tr>\n",
       "      <th>21803</th>\n",
       "      <td>biotech</td>\n",
       "      <td>operating</td>\n",
       "      <td>USA</td>\n",
       "      <td>VA</td>\n",
       "      <td>Charlottesville</td>\n",
       "      <td>Charlottesville</td>\n",
       "      <td>venture</td>\n",
       "    </tr>\n",
       "    <tr>\n",
       "      <th>48341</th>\n",
       "      <td>software</td>\n",
       "      <td>operating</td>\n",
       "      <td>USA</td>\n",
       "      <td>CA</td>\n",
       "      <td>SF Bay</td>\n",
       "      <td>San Mateo</td>\n",
       "      <td>venture</td>\n",
       "    </tr>\n",
       "    <tr>\n",
       "      <th>28112</th>\n",
       "      <td>manufacturing</td>\n",
       "      <td>operating</td>\n",
       "      <td>USA</td>\n",
       "      <td>CO</td>\n",
       "      <td>Denver</td>\n",
       "      <td>Boulder</td>\n",
       "      <td>venture</td>\n",
       "    </tr>\n",
       "    <tr>\n",
       "      <th>28111</th>\n",
       "      <td>transportation</td>\n",
       "      <td>operating</td>\n",
       "      <td>USA</td>\n",
       "      <td>WI</td>\n",
       "      <td>TBD</td>\n",
       "      <td>Sun Prarie</td>\n",
       "      <td>venture</td>\n",
       "    </tr>\n",
       "    <tr>\n",
       "      <th>48337</th>\n",
       "      <td>advertising</td>\n",
       "      <td>acquired</td>\n",
       "      <td>USA</td>\n",
       "      <td>MA</td>\n",
       "      <td>Boston</td>\n",
       "      <td>Beverly</td>\n",
       "      <td>venture</td>\n",
       "    </tr>\n",
       "    <tr>\n",
       "      <th>30983</th>\n",
       "      <td>medical</td>\n",
       "      <td>operating</td>\n",
       "      <td>USA</td>\n",
       "      <td>MA</td>\n",
       "      <td>Boston</td>\n",
       "      <td>Newton</td>\n",
       "      <td>venture</td>\n",
       "    </tr>\n",
       "  </tbody>\n",
       "</table>\n",
       "<p>42019 rows × 7 columns</p>\n",
       "</div>"
      ],
      "text/plain": [
       "         category_code     status country_code state_code           region  \\\n",
       "30320    manufacturing  operating          USA         CA           SF Bay   \n",
       "30319    manufacturing  operating          USA         CA           SF Bay   \n",
       "30262           mobile  operating          USA         CA           SF Bay   \n",
       "30261           mobile  operating          USA         CA           SF Bay   \n",
       "30258         software  operating          USA         CA        San Diego   \n",
       "30255       consulting  operating          USA         IL          Chicago   \n",
       "30304       enterprise  operating          USA         CO           Denver   \n",
       "30449      advertising  operating          USA         CA           SF Bay   \n",
       "30438           social  operating          USA         NY         New York   \n",
       "30409            other  operating          USA         CO           Denver   \n",
       "30355         software  operating          USA         TX           Austin   \n",
       "30407           social  operating          USA         IL          Chicago   \n",
       "30392           design   acquired          USA         NY         New York   \n",
       "30387           mobile  operating          USA         MI          Detroit   \n",
       "30386         hardware  operating          USA         CA           SF Bay   \n",
       "30383        ecommerce  operating          USA         PA     Philadelphia   \n",
       "30373           sports  operating          DNK         CA           SF Bay   \n",
       "30453             news   acquired          USA         CA           SF Bay   \n",
       "30160          biotech  operating          USA         MO      Saint Louis   \n",
       "30159           search  operating          USA         CA           SF Bay   \n",
       "30158           search  operating          USA         CA           SF Bay   \n",
       "30157           search  operating          USA         CA           SF Bay   \n",
       "30153      advertising  operating          USA         CO           Denver   \n",
       "30140           health  operating          USA         CA           SF Bay   \n",
       "30139            other  operating          USA         RI       Providence   \n",
       "30138            other  operating          USA         RI       Providence   \n",
       "30137            other  operating          USA         RI       Providence   \n",
       "30136            other  operating          USA         RI       Providence   \n",
       "30135            other  operating          USA         RI       Providence   \n",
       "30106        ecommerce  operating          USA         IL          Chicago   \n",
       "...                ...        ...          ...        ...              ...   \n",
       "21806          biotech  operating          USA         NC   Raleigh-Durham   \n",
       "21807          biotech  operating          USA         GA          Atlanta   \n",
       "28108  network_hosting   acquired          USA         IL          Chicago   \n",
       "9522       hospitality  operating          USA         CA      Los Angeles   \n",
       "21810          biotech   acquired          USA         CA           SF Bay   \n",
       "21811          biotech   acquired          USA         CA           SF Bay   \n",
       "21812          biotech  operating          USA         FL          Orlando   \n",
       "48321        messaging   acquired          USA         NY         New York   \n",
       "21813          biotech  operating          USA         FL          Orlando   \n",
       "48319          medical  operating          USA         NM          unknown   \n",
       "21814          biotech  operating          USA         FL          Orlando   \n",
       "48317      hospitality   acquired          USA         NY         New York   \n",
       "21815          biotech  operating          USA         FL          Orlando   \n",
       "48315      hospitality   acquired          USA         NY         New York   \n",
       "11023        ecommerce  operating          USA         CA           SF Bay   \n",
       "4285               web  operating          USA         MN      Minneapolis   \n",
       "4284             other  operating          USA         NJ        Fairfield   \n",
       "48363           search  operating          USA         NY         New York   \n",
       "48362           search  operating          USA         NY         New York   \n",
       "48361           search  operating          USA         NY         New York   \n",
       "4278          software  operating          USA         MA           Boston   \n",
       "48354          biotech  operating          USA         MA           Boston   \n",
       "21799          biotech     closed          USA         VA  Charlottesville   \n",
       "7307          software  operating          USA         TX           Dallas   \n",
       "21803          biotech  operating          USA         VA  Charlottesville   \n",
       "48341         software  operating          USA         CA           SF Bay   \n",
       "28112    manufacturing  operating          USA         CO           Denver   \n",
       "28111   transportation  operating          USA         WI              TBD   \n",
       "48337      advertising   acquired          USA         MA           Boston   \n",
       "30983          medical  operating          USA         MA           Boston   \n",
       "\n",
       "                    city funding_round_type  \n",
       "30320    LOS ALTOS HILLS              angel  \n",
       "30319    LOS ALTOS HILLS              angel  \n",
       "30262      San Francisco              angel  \n",
       "30261      San Francisco              angel  \n",
       "30258           Carlsbad              angel  \n",
       "30255            Chicago              angel  \n",
       "30304            Boulder              angel  \n",
       "30449      Mountain View              angel  \n",
       "30438           New York              angel  \n",
       "30409          Englewood              angel  \n",
       "30355             Austin              angel  \n",
       "30407            Chicago              angel  \n",
       "30392      New York City              angel  \n",
       "30387          Ann Arbor              angel  \n",
       "30386      Mountain View              angel  \n",
       "30383       Philadelphia              angel  \n",
       "30373          Palo Alto              angel  \n",
       "30453      Mountain View              angel  \n",
       "30160          St. Louis              angel  \n",
       "30159          Sunnyvale              angel  \n",
       "30158          Sunnyvale              angel  \n",
       "30157          Sunnyvale              angel  \n",
       "30153         Broomfield              angel  \n",
       "30140          Palo Alto              angel  \n",
       "30139         Providence              angel  \n",
       "30138         Providence              angel  \n",
       "30137         Providence              angel  \n",
       "30136         Providence              angel  \n",
       "30135         Providence              angel  \n",
       "30106            Chicago              angel  \n",
       "...                  ...                ...  \n",
       "21806             Durham            venture  \n",
       "21807           Norcross            venture  \n",
       "28108          Oak Brook            venture  \n",
       "9522              IRVINE            venture  \n",
       "21810       Redwood City            venture  \n",
       "21811       Redwood City            venture  \n",
       "21812            ORLANDO            venture  \n",
       "48321           New York            venture  \n",
       "21813            ORLANDO            venture  \n",
       "48319  Suite A3 Santa Fe            venture  \n",
       "21814            ORLANDO            venture  \n",
       "48317           New York            venture  \n",
       "21815            ORLANDO            venture  \n",
       "48315           New York            venture  \n",
       "11023      San Francisco            venture  \n",
       "4285          Minnetonka            venture  \n",
       "4284           Fairfield            venture  \n",
       "48363           New York            venture  \n",
       "48362           New York            venture  \n",
       "48361           New York            venture  \n",
       "4278           Cambridge            venture  \n",
       "48354          Cambridge            venture  \n",
       "21799    Charlottesville            venture  \n",
       "7307              Dallas            venture  \n",
       "21803    Charlottesville            venture  \n",
       "48341          San Mateo            venture  \n",
       "28112            Boulder            venture  \n",
       "28111         Sun Prarie            venture  \n",
       "48337            Beverly            venture  \n",
       "30983             Newton            venture  \n",
       "\n",
       "[42019 rows x 7 columns]"
      ]
     },
     "execution_count": 23,
     "metadata": {},
     "output_type": "execute_result"
    }
   ],
   "source": [
    "data = data.sort(['funding_round_type'])\n",
    "data.dropna()"
   ]
  },
  {
   "cell_type": "markdown",
   "metadata": {},
   "source": [
    "#### Removing Noise from the dataset"
   ]
  },
  {
   "cell_type": "code",
   "execution_count": 24,
   "metadata": {
    "collapsed": true
   },
   "outputs": [],
   "source": [
    "data = data[data.category_code.notnull()]\n",
    "data = data[data.status.notnull()]\n",
    "data = data[data.country_code.notnull()]\n",
    "data = data[data.state_code.notnull()]\n",
    "data = data[data.region.notnull()]\n",
    "data = data[data.city.notnull()]\n",
    "data = data[data.funding_round_type.notnull()]"
   ]
  },
  {
   "cell_type": "code",
   "execution_count": 25,
   "metadata": {
    "collapsed": false
   },
   "outputs": [
    {
     "name": "stdout",
     "output_type": "stream",
     "text": [
      "42019\n"
     ]
    }
   ],
   "source": [
    "print len(data)"
   ]
  },
  {
   "cell_type": "code",
   "execution_count": 30,
   "metadata": {
    "collapsed": false
   },
   "outputs": [
    {
     "name": "stdout",
     "output_type": "stream",
     "text": [
      "['angel' 'crowdfunding' 'other' 'post-ipo' 'private-equity' 'series-a'\n",
      " 'series-b' 'series-c+' 'venture']\n"
     ]
    }
   ],
   "source": [
    "Original_data = data.copy()\n",
    "labels = np.unique(data.funding_round_type)\n",
    "print labels"
   ]
  },
  {
   "cell_type": "code",
   "execution_count": 31,
   "metadata": {
    "collapsed": false
   },
   "outputs": [
    {
     "name": "stdout",
     "output_type": "stream",
     "text": [
      "[['angel' 8185L]\n",
      " ['crowdfunding' 71L]\n",
      " ['other' 4819L]\n",
      " ['post-ipo' 143L]\n",
      " ['private-equity' 964L]\n",
      " ['series-a' 7174L]\n",
      " ['series-b' 3790L]\n",
      " ['series-c+' 3708L]\n",
      " ['venture' 13165L]]\n"
     ]
    }
   ],
   "source": [
    "from scipy import stats\n",
    "labels_freq = data.funding_round_type.copy()\n",
    "freq = stats.itemfreq(labels_freq)\n",
    "print freq"
   ]
  },
  {
   "cell_type": "code",
   "execution_count": 32,
   "metadata": {
    "collapsed": false
   },
   "outputs": [
    {
     "name": "stdout",
     "output_type": "stream",
     "text": [
      "8185\n",
      "71\n",
      "4819\n",
      "143\n",
      "964\n",
      "7174\n",
      "3790\n",
      "3708\n",
      "13165\n"
     ]
    }
   ],
   "source": [
    "d = pd.DataFrame()\n",
    "d['investment_type']= labels\n",
    "d['freq'] = 0\n",
    "for i,v in enumerate(freq):\n",
    "    Index = d.investment_type[d.investment_type==v[0]].index\n",
    "    print v[1]\n",
    "    d.at[Index,'freq'] = v[1]"
   ]
  },
  {
   "cell_type": "code",
   "execution_count": 34,
   "metadata": {
    "collapsed": false
   },
   "outputs": [],
   "source": [
    "d.to_csv(\"C:/Users/mphan21/Google Drive/Research/projects/Venture/data/investment_type.csv\")"
   ]
  },
  {
   "cell_type": "code",
   "execution_count": 35,
   "metadata": {
    "collapsed": false
   },
   "outputs": [
    {
     "name": "stdout",
     "output_type": "stream",
     "text": [
      "encoding categories... 43\n",
      "encoding status.... 4\n",
      "encoding countries.... 24\n",
      "encoding states.... 51\n",
      "encoding regions.... 847\n",
      "encoding cities.... 2337\n",
      "encoding funding_round_type..... 9\n",
      "unique labels :  ['angel' 'crowdfunding' 'other' 'post-ipo' 'private-equity' 'series-a'\n",
      " 'series-b' 'series-c+' 'venture']\n"
     ]
    }
   ],
   "source": [
    "onehotencode_toIntegers(data)"
   ]
  },
  {
   "cell_type": "code",
   "execution_count": 37,
   "metadata": {
    "collapsed": false
   },
   "outputs": [
    {
     "name": "stdout",
     "output_type": "stream",
     "text": [
      "[0 1 2 3 4 5 6 7 8]\n"
     ]
    }
   ],
   "source": [
    "print np.unique(data.funding_round_type)"
   ]
  },
  {
   "cell_type": "code",
   "execution_count": 38,
   "metadata": {
    "collapsed": false
   },
   "outputs": [
    {
     "data": {
      "text/html": [
       "<div>\n",
       "<table border=\"1\" class=\"dataframe\">\n",
       "  <thead>\n",
       "    <tr style=\"text-align: right;\">\n",
       "      <th></th>\n",
       "      <th>category_code</th>\n",
       "      <th>status</th>\n",
       "      <th>country_code</th>\n",
       "      <th>state_code</th>\n",
       "      <th>region</th>\n",
       "      <th>city</th>\n",
       "      <th>funding_round_type</th>\n",
       "    </tr>\n",
       "  </thead>\n",
       "  <tbody>\n",
       "    <tr>\n",
       "      <th>30320</th>\n",
       "      <td>19</td>\n",
       "      <td>3</td>\n",
       "      <td>23</td>\n",
       "      <td>4</td>\n",
       "      <td>625</td>\n",
       "      <td>986</td>\n",
       "      <td>0</td>\n",
       "    </tr>\n",
       "    <tr>\n",
       "      <th>30319</th>\n",
       "      <td>19</td>\n",
       "      <td>3</td>\n",
       "      <td>23</td>\n",
       "      <td>4</td>\n",
       "      <td>625</td>\n",
       "      <td>986</td>\n",
       "      <td>0</td>\n",
       "    </tr>\n",
       "    <tr>\n",
       "      <th>30262</th>\n",
       "      <td>22</td>\n",
       "      <td>3</td>\n",
       "      <td>23</td>\n",
       "      <td>4</td>\n",
       "      <td>625</td>\n",
       "      <td>1792</td>\n",
       "      <td>0</td>\n",
       "    </tr>\n",
       "    <tr>\n",
       "      <th>30261</th>\n",
       "      <td>22</td>\n",
       "      <td>3</td>\n",
       "      <td>23</td>\n",
       "      <td>4</td>\n",
       "      <td>625</td>\n",
       "      <td>1792</td>\n",
       "      <td>0</td>\n",
       "    </tr>\n",
       "    <tr>\n",
       "      <th>30258</th>\n",
       "      <td>38</td>\n",
       "      <td>3</td>\n",
       "      <td>23</td>\n",
       "      <td>4</td>\n",
       "      <td>642</td>\n",
       "      <td>336</td>\n",
       "      <td>0</td>\n",
       "    </tr>\n",
       "    <tr>\n",
       "      <th>30255</th>\n",
       "      <td>5</td>\n",
       "      <td>3</td>\n",
       "      <td>23</td>\n",
       "      <td>14</td>\n",
       "      <td>126</td>\n",
       "      <td>383</td>\n",
       "      <td>0</td>\n",
       "    </tr>\n",
       "    <tr>\n",
       "      <th>30304</th>\n",
       "      <td>9</td>\n",
       "      <td>3</td>\n",
       "      <td>23</td>\n",
       "      <td>5</td>\n",
       "      <td>171</td>\n",
       "      <td>233</td>\n",
       "      <td>0</td>\n",
       "    </tr>\n",
       "    <tr>\n",
       "      <th>30449</th>\n",
       "      <td>0</td>\n",
       "      <td>3</td>\n",
       "      <td>23</td>\n",
       "      <td>4</td>\n",
       "      <td>625</td>\n",
       "      <td>1285</td>\n",
       "      <td>0</td>\n",
       "    </tr>\n",
       "    <tr>\n",
       "      <th>30438</th>\n",
       "      <td>37</td>\n",
       "      <td>3</td>\n",
       "      <td>23</td>\n",
       "      <td>34</td>\n",
       "      <td>482</td>\n",
       "      <td>1352</td>\n",
       "      <td>0</td>\n",
       "    </tr>\n",
       "    <tr>\n",
       "      <th>30409</th>\n",
       "      <td>28</td>\n",
       "      <td>3</td>\n",
       "      <td>23</td>\n",
       "      <td>5</td>\n",
       "      <td>171</td>\n",
       "      <td>615</td>\n",
       "      <td>0</td>\n",
       "    </tr>\n",
       "    <tr>\n",
       "      <th>30355</th>\n",
       "      <td>38</td>\n",
       "      <td>3</td>\n",
       "      <td>23</td>\n",
       "      <td>43</td>\n",
       "      <td>31</td>\n",
       "      <td>105</td>\n",
       "      <td>0</td>\n",
       "    </tr>\n",
       "    <tr>\n",
       "      <th>30407</th>\n",
       "      <td>37</td>\n",
       "      <td>3</td>\n",
       "      <td>23</td>\n",
       "      <td>14</td>\n",
       "      <td>126</td>\n",
       "      <td>383</td>\n",
       "      <td>0</td>\n",
       "    </tr>\n",
       "    <tr>\n",
       "      <th>30392</th>\n",
       "      <td>6</td>\n",
       "      <td>0</td>\n",
       "      <td>23</td>\n",
       "      <td>34</td>\n",
       "      <td>482</td>\n",
       "      <td>1353</td>\n",
       "      <td>0</td>\n",
       "    </tr>\n",
       "    <tr>\n",
       "      <th>30387</th>\n",
       "      <td>22</td>\n",
       "      <td>3</td>\n",
       "      <td>23</td>\n",
       "      <td>22</td>\n",
       "      <td>175</td>\n",
       "      <td>65</td>\n",
       "      <td>0</td>\n",
       "    </tr>\n",
       "    <tr>\n",
       "      <th>30386</th>\n",
       "      <td>14</td>\n",
       "      <td>3</td>\n",
       "      <td>23</td>\n",
       "      <td>4</td>\n",
       "      <td>625</td>\n",
       "      <td>1285</td>\n",
       "      <td>0</td>\n",
       "    </tr>\n",
       "    <tr>\n",
       "      <th>30383</th>\n",
       "      <td>7</td>\n",
       "      <td>3</td>\n",
       "      <td>23</td>\n",
       "      <td>38</td>\n",
       "      <td>555</td>\n",
       "      <td>1547</td>\n",
       "      <td>0</td>\n",
       "    </tr>\n",
       "    <tr>\n",
       "      <th>30373</th>\n",
       "      <td>39</td>\n",
       "      <td>3</td>\n",
       "      <td>5</td>\n",
       "      <td>4</td>\n",
       "      <td>625</td>\n",
       "      <td>1512</td>\n",
       "      <td>0</td>\n",
       "    </tr>\n",
       "    <tr>\n",
       "      <th>30453</th>\n",
       "      <td>26</td>\n",
       "      <td>0</td>\n",
       "      <td>23</td>\n",
       "      <td>4</td>\n",
       "      <td>625</td>\n",
       "      <td>1285</td>\n",
       "      <td>0</td>\n",
       "    </tr>\n",
       "    <tr>\n",
       "      <th>30160</th>\n",
       "      <td>3</td>\n",
       "      <td>3</td>\n",
       "      <td>23</td>\n",
       "      <td>24</td>\n",
       "      <td>635</td>\n",
       "      <td>1955</td>\n",
       "      <td>0</td>\n",
       "    </tr>\n",
       "    <tr>\n",
       "      <th>30159</th>\n",
       "      <td>34</td>\n",
       "      <td>3</td>\n",
       "      <td>23</td>\n",
       "      <td>4</td>\n",
       "      <td>625</td>\n",
       "      <td>2006</td>\n",
       "      <td>0</td>\n",
       "    </tr>\n",
       "    <tr>\n",
       "      <th>30158</th>\n",
       "      <td>34</td>\n",
       "      <td>3</td>\n",
       "      <td>23</td>\n",
       "      <td>4</td>\n",
       "      <td>625</td>\n",
       "      <td>2006</td>\n",
       "      <td>0</td>\n",
       "    </tr>\n",
       "    <tr>\n",
       "      <th>30157</th>\n",
       "      <td>34</td>\n",
       "      <td>3</td>\n",
       "      <td>23</td>\n",
       "      <td>4</td>\n",
       "      <td>625</td>\n",
       "      <td>2006</td>\n",
       "      <td>0</td>\n",
       "    </tr>\n",
       "    <tr>\n",
       "      <th>30153</th>\n",
       "      <td>0</td>\n",
       "      <td>3</td>\n",
       "      <td>23</td>\n",
       "      <td>5</td>\n",
       "      <td>171</td>\n",
       "      <td>273</td>\n",
       "      <td>0</td>\n",
       "    </tr>\n",
       "    <tr>\n",
       "      <th>30140</th>\n",
       "      <td>15</td>\n",
       "      <td>3</td>\n",
       "      <td>23</td>\n",
       "      <td>4</td>\n",
       "      <td>625</td>\n",
       "      <td>1512</td>\n",
       "      <td>0</td>\n",
       "    </tr>\n",
       "    <tr>\n",
       "      <th>30139</th>\n",
       "      <td>28</td>\n",
       "      <td>3</td>\n",
       "      <td>23</td>\n",
       "      <td>39</td>\n",
       "      <td>581</td>\n",
       "      <td>1606</td>\n",
       "      <td>0</td>\n",
       "    </tr>\n",
       "    <tr>\n",
       "      <th>30138</th>\n",
       "      <td>28</td>\n",
       "      <td>3</td>\n",
       "      <td>23</td>\n",
       "      <td>39</td>\n",
       "      <td>581</td>\n",
       "      <td>1606</td>\n",
       "      <td>0</td>\n",
       "    </tr>\n",
       "    <tr>\n",
       "      <th>30137</th>\n",
       "      <td>28</td>\n",
       "      <td>3</td>\n",
       "      <td>23</td>\n",
       "      <td>39</td>\n",
       "      <td>581</td>\n",
       "      <td>1606</td>\n",
       "      <td>0</td>\n",
       "    </tr>\n",
       "    <tr>\n",
       "      <th>30136</th>\n",
       "      <td>28</td>\n",
       "      <td>3</td>\n",
       "      <td>23</td>\n",
       "      <td>39</td>\n",
       "      <td>581</td>\n",
       "      <td>1606</td>\n",
       "      <td>0</td>\n",
       "    </tr>\n",
       "    <tr>\n",
       "      <th>30135</th>\n",
       "      <td>28</td>\n",
       "      <td>3</td>\n",
       "      <td>23</td>\n",
       "      <td>39</td>\n",
       "      <td>581</td>\n",
       "      <td>1606</td>\n",
       "      <td>0</td>\n",
       "    </tr>\n",
       "    <tr>\n",
       "      <th>30106</th>\n",
       "      <td>7</td>\n",
       "      <td>3</td>\n",
       "      <td>23</td>\n",
       "      <td>14</td>\n",
       "      <td>126</td>\n",
       "      <td>383</td>\n",
       "      <td>0</td>\n",
       "    </tr>\n",
       "    <tr>\n",
       "      <th>...</th>\n",
       "      <td>...</td>\n",
       "      <td>...</td>\n",
       "      <td>...</td>\n",
       "      <td>...</td>\n",
       "      <td>...</td>\n",
       "      <td>...</td>\n",
       "      <td>...</td>\n",
       "    </tr>\n",
       "    <tr>\n",
       "      <th>21806</th>\n",
       "      <td>3</td>\n",
       "      <td>3</td>\n",
       "      <td>23</td>\n",
       "      <td>27</td>\n",
       "      <td>588</td>\n",
       "      <td>549</td>\n",
       "      <td>8</td>\n",
       "    </tr>\n",
       "    <tr>\n",
       "      <th>21807</th>\n",
       "      <td>3</td>\n",
       "      <td>3</td>\n",
       "      <td>23</td>\n",
       "      <td>10</td>\n",
       "      <td>23</td>\n",
       "      <td>1376</td>\n",
       "      <td>8</td>\n",
       "    </tr>\n",
       "    <tr>\n",
       "      <th>28108</th>\n",
       "      <td>25</td>\n",
       "      <td>0</td>\n",
       "      <td>23</td>\n",
       "      <td>14</td>\n",
       "      <td>126</td>\n",
       "      <td>1428</td>\n",
       "      <td>8</td>\n",
       "    </tr>\n",
       "    <tr>\n",
       "      <th>9522</th>\n",
       "      <td>16</td>\n",
       "      <td>3</td>\n",
       "      <td>23</td>\n",
       "      <td>4</td>\n",
       "      <td>373</td>\n",
       "      <td>889</td>\n",
       "      <td>8</td>\n",
       "    </tr>\n",
       "    <tr>\n",
       "      <th>21810</th>\n",
       "      <td>3</td>\n",
       "      <td>0</td>\n",
       "      <td>23</td>\n",
       "      <td>4</td>\n",
       "      <td>625</td>\n",
       "      <td>1656</td>\n",
       "      <td>8</td>\n",
       "    </tr>\n",
       "    <tr>\n",
       "      <th>21811</th>\n",
       "      <td>3</td>\n",
       "      <td>0</td>\n",
       "      <td>23</td>\n",
       "      <td>4</td>\n",
       "      <td>625</td>\n",
       "      <td>1656</td>\n",
       "      <td>8</td>\n",
       "    </tr>\n",
       "    <tr>\n",
       "      <th>21812</th>\n",
       "      <td>3</td>\n",
       "      <td>3</td>\n",
       "      <td>23</td>\n",
       "      <td>9</td>\n",
       "      <td>529</td>\n",
       "      <td>1426</td>\n",
       "      <td>8</td>\n",
       "    </tr>\n",
       "    <tr>\n",
       "      <th>48321</th>\n",
       "      <td>21</td>\n",
       "      <td>0</td>\n",
       "      <td>23</td>\n",
       "      <td>34</td>\n",
       "      <td>482</td>\n",
       "      <td>1352</td>\n",
       "      <td>8</td>\n",
       "    </tr>\n",
       "    <tr>\n",
       "      <th>21813</th>\n",
       "      <td>3</td>\n",
       "      <td>3</td>\n",
       "      <td>23</td>\n",
       "      <td>9</td>\n",
       "      <td>529</td>\n",
       "      <td>1426</td>\n",
       "      <td>8</td>\n",
       "    </tr>\n",
       "    <tr>\n",
       "      <th>48319</th>\n",
       "      <td>20</td>\n",
       "      <td>3</td>\n",
       "      <td>23</td>\n",
       "      <td>32</td>\n",
       "      <td>844</td>\n",
       "      <td>1996</td>\n",
       "      <td>8</td>\n",
       "    </tr>\n",
       "    <tr>\n",
       "      <th>21814</th>\n",
       "      <td>3</td>\n",
       "      <td>3</td>\n",
       "      <td>23</td>\n",
       "      <td>9</td>\n",
       "      <td>529</td>\n",
       "      <td>1426</td>\n",
       "      <td>8</td>\n",
       "    </tr>\n",
       "    <tr>\n",
       "      <th>48317</th>\n",
       "      <td>16</td>\n",
       "      <td>0</td>\n",
       "      <td>23</td>\n",
       "      <td>34</td>\n",
       "      <td>482</td>\n",
       "      <td>1352</td>\n",
       "      <td>8</td>\n",
       "    </tr>\n",
       "    <tr>\n",
       "      <th>21815</th>\n",
       "      <td>3</td>\n",
       "      <td>3</td>\n",
       "      <td>23</td>\n",
       "      <td>9</td>\n",
       "      <td>529</td>\n",
       "      <td>1426</td>\n",
       "      <td>8</td>\n",
       "    </tr>\n",
       "    <tr>\n",
       "      <th>48315</th>\n",
       "      <td>16</td>\n",
       "      <td>0</td>\n",
       "      <td>23</td>\n",
       "      <td>34</td>\n",
       "      <td>482</td>\n",
       "      <td>1352</td>\n",
       "      <td>8</td>\n",
       "    </tr>\n",
       "    <tr>\n",
       "      <th>11023</th>\n",
       "      <td>7</td>\n",
       "      <td>3</td>\n",
       "      <td>23</td>\n",
       "      <td>4</td>\n",
       "      <td>625</td>\n",
       "      <td>1792</td>\n",
       "      <td>8</td>\n",
       "    </tr>\n",
       "    <tr>\n",
       "      <th>4285</th>\n",
       "      <td>42</td>\n",
       "      <td>3</td>\n",
       "      <td>23</td>\n",
       "      <td>23</td>\n",
       "      <td>430</td>\n",
       "      <td>1234</td>\n",
       "      <td>8</td>\n",
       "    </tr>\n",
       "    <tr>\n",
       "      <th>4284</th>\n",
       "      <td>28</td>\n",
       "      <td>3</td>\n",
       "      <td>23</td>\n",
       "      <td>31</td>\n",
       "      <td>217</td>\n",
       "      <td>644</td>\n",
       "      <td>8</td>\n",
       "    </tr>\n",
       "    <tr>\n",
       "      <th>48363</th>\n",
       "      <td>34</td>\n",
       "      <td>3</td>\n",
       "      <td>23</td>\n",
       "      <td>34</td>\n",
       "      <td>482</td>\n",
       "      <td>1352</td>\n",
       "      <td>8</td>\n",
       "    </tr>\n",
       "    <tr>\n",
       "      <th>48362</th>\n",
       "      <td>34</td>\n",
       "      <td>3</td>\n",
       "      <td>23</td>\n",
       "      <td>34</td>\n",
       "      <td>482</td>\n",
       "      <td>1352</td>\n",
       "      <td>8</td>\n",
       "    </tr>\n",
       "    <tr>\n",
       "      <th>48361</th>\n",
       "      <td>34</td>\n",
       "      <td>3</td>\n",
       "      <td>23</td>\n",
       "      <td>34</td>\n",
       "      <td>482</td>\n",
       "      <td>1352</td>\n",
       "      <td>8</td>\n",
       "    </tr>\n",
       "    <tr>\n",
       "      <th>4278</th>\n",
       "      <td>38</td>\n",
       "      <td>3</td>\n",
       "      <td>23</td>\n",
       "      <td>19</td>\n",
       "      <td>78</td>\n",
       "      <td>321</td>\n",
       "      <td>8</td>\n",
       "    </tr>\n",
       "    <tr>\n",
       "      <th>48354</th>\n",
       "      <td>3</td>\n",
       "      <td>3</td>\n",
       "      <td>23</td>\n",
       "      <td>19</td>\n",
       "      <td>78</td>\n",
       "      <td>321</td>\n",
       "      <td>8</td>\n",
       "    </tr>\n",
       "    <tr>\n",
       "      <th>21799</th>\n",
       "      <td>3</td>\n",
       "      <td>1</td>\n",
       "      <td>23</td>\n",
       "      <td>45</td>\n",
       "      <td>120</td>\n",
       "      <td>371</td>\n",
       "      <td>8</td>\n",
       "    </tr>\n",
       "    <tr>\n",
       "      <th>7307</th>\n",
       "      <td>38</td>\n",
       "      <td>3</td>\n",
       "      <td>23</td>\n",
       "      <td>43</td>\n",
       "      <td>164</td>\n",
       "      <td>491</td>\n",
       "      <td>8</td>\n",
       "    </tr>\n",
       "    <tr>\n",
       "      <th>21803</th>\n",
       "      <td>3</td>\n",
       "      <td>3</td>\n",
       "      <td>23</td>\n",
       "      <td>45</td>\n",
       "      <td>120</td>\n",
       "      <td>371</td>\n",
       "      <td>8</td>\n",
       "    </tr>\n",
       "    <tr>\n",
       "      <th>48341</th>\n",
       "      <td>38</td>\n",
       "      <td>3</td>\n",
       "      <td>23</td>\n",
       "      <td>4</td>\n",
       "      <td>625</td>\n",
       "      <td>1807</td>\n",
       "      <td>8</td>\n",
       "    </tr>\n",
       "    <tr>\n",
       "      <th>28112</th>\n",
       "      <td>19</td>\n",
       "      <td>3</td>\n",
       "      <td>23</td>\n",
       "      <td>5</td>\n",
       "      <td>171</td>\n",
       "      <td>233</td>\n",
       "      <td>8</td>\n",
       "    </tr>\n",
       "    <tr>\n",
       "      <th>28111</th>\n",
       "      <td>40</td>\n",
       "      <td>3</td>\n",
       "      <td>23</td>\n",
       "      <td>48</td>\n",
       "      <td>726</td>\n",
       "      <td>2003</td>\n",
       "      <td>8</td>\n",
       "    </tr>\n",
       "    <tr>\n",
       "      <th>48337</th>\n",
       "      <td>0</td>\n",
       "      <td>0</td>\n",
       "      <td>23</td>\n",
       "      <td>19</td>\n",
       "      <td>78</td>\n",
       "      <td>196</td>\n",
       "      <td>8</td>\n",
       "    </tr>\n",
       "    <tr>\n",
       "      <th>30983</th>\n",
       "      <td>20</td>\n",
       "      <td>3</td>\n",
       "      <td>23</td>\n",
       "      <td>19</td>\n",
       "      <td>78</td>\n",
       "      <td>1368</td>\n",
       "      <td>8</td>\n",
       "    </tr>\n",
       "  </tbody>\n",
       "</table>\n",
       "<p>42019 rows × 7 columns</p>\n",
       "</div>"
      ],
      "text/plain": [
       "      category_code status country_code state_code region  city  \\\n",
       "30320            19      3           23          4    625   986   \n",
       "30319            19      3           23          4    625   986   \n",
       "30262            22      3           23          4    625  1792   \n",
       "30261            22      3           23          4    625  1792   \n",
       "30258            38      3           23          4    642   336   \n",
       "30255             5      3           23         14    126   383   \n",
       "30304             9      3           23          5    171   233   \n",
       "30449             0      3           23          4    625  1285   \n",
       "30438            37      3           23         34    482  1352   \n",
       "30409            28      3           23          5    171   615   \n",
       "30355            38      3           23         43     31   105   \n",
       "30407            37      3           23         14    126   383   \n",
       "30392             6      0           23         34    482  1353   \n",
       "30387            22      3           23         22    175    65   \n",
       "30386            14      3           23          4    625  1285   \n",
       "30383             7      3           23         38    555  1547   \n",
       "30373            39      3            5          4    625  1512   \n",
       "30453            26      0           23          4    625  1285   \n",
       "30160             3      3           23         24    635  1955   \n",
       "30159            34      3           23          4    625  2006   \n",
       "30158            34      3           23          4    625  2006   \n",
       "30157            34      3           23          4    625  2006   \n",
       "30153             0      3           23          5    171   273   \n",
       "30140            15      3           23          4    625  1512   \n",
       "30139            28      3           23         39    581  1606   \n",
       "30138            28      3           23         39    581  1606   \n",
       "30137            28      3           23         39    581  1606   \n",
       "30136            28      3           23         39    581  1606   \n",
       "30135            28      3           23         39    581  1606   \n",
       "30106             7      3           23         14    126   383   \n",
       "...             ...    ...          ...        ...    ...   ...   \n",
       "21806             3      3           23         27    588   549   \n",
       "21807             3      3           23         10     23  1376   \n",
       "28108            25      0           23         14    126  1428   \n",
       "9522             16      3           23          4    373   889   \n",
       "21810             3      0           23          4    625  1656   \n",
       "21811             3      0           23          4    625  1656   \n",
       "21812             3      3           23          9    529  1426   \n",
       "48321            21      0           23         34    482  1352   \n",
       "21813             3      3           23          9    529  1426   \n",
       "48319            20      3           23         32    844  1996   \n",
       "21814             3      3           23          9    529  1426   \n",
       "48317            16      0           23         34    482  1352   \n",
       "21815             3      3           23          9    529  1426   \n",
       "48315            16      0           23         34    482  1352   \n",
       "11023             7      3           23          4    625  1792   \n",
       "4285             42      3           23         23    430  1234   \n",
       "4284             28      3           23         31    217   644   \n",
       "48363            34      3           23         34    482  1352   \n",
       "48362            34      3           23         34    482  1352   \n",
       "48361            34      3           23         34    482  1352   \n",
       "4278             38      3           23         19     78   321   \n",
       "48354             3      3           23         19     78   321   \n",
       "21799             3      1           23         45    120   371   \n",
       "7307             38      3           23         43    164   491   \n",
       "21803             3      3           23         45    120   371   \n",
       "48341            38      3           23          4    625  1807   \n",
       "28112            19      3           23          5    171   233   \n",
       "28111            40      3           23         48    726  2003   \n",
       "48337             0      0           23         19     78   196   \n",
       "30983            20      3           23         19     78  1368   \n",
       "\n",
       "      funding_round_type  \n",
       "30320                  0  \n",
       "30319                  0  \n",
       "30262                  0  \n",
       "30261                  0  \n",
       "30258                  0  \n",
       "30255                  0  \n",
       "30304                  0  \n",
       "30449                  0  \n",
       "30438                  0  \n",
       "30409                  0  \n",
       "30355                  0  \n",
       "30407                  0  \n",
       "30392                  0  \n",
       "30387                  0  \n",
       "30386                  0  \n",
       "30383                  0  \n",
       "30373                  0  \n",
       "30453                  0  \n",
       "30160                  0  \n",
       "30159                  0  \n",
       "30158                  0  \n",
       "30157                  0  \n",
       "30153                  0  \n",
       "30140                  0  \n",
       "30139                  0  \n",
       "30138                  0  \n",
       "30137                  0  \n",
       "30136                  0  \n",
       "30135                  0  \n",
       "30106                  0  \n",
       "...                  ...  \n",
       "21806                  8  \n",
       "21807                  8  \n",
       "28108                  8  \n",
       "9522                   8  \n",
       "21810                  8  \n",
       "21811                  8  \n",
       "21812                  8  \n",
       "48321                  8  \n",
       "21813                  8  \n",
       "48319                  8  \n",
       "21814                  8  \n",
       "48317                  8  \n",
       "21815                  8  \n",
       "48315                  8  \n",
       "11023                  8  \n",
       "4285                   8  \n",
       "4284                   8  \n",
       "48363                  8  \n",
       "48362                  8  \n",
       "48361                  8  \n",
       "4278                   8  \n",
       "48354                  8  \n",
       "21799                  8  \n",
       "7307                   8  \n",
       "21803                  8  \n",
       "48341                  8  \n",
       "28112                  8  \n",
       "28111                  8  \n",
       "48337                  8  \n",
       "30983                  8  \n",
       "\n",
       "[42019 rows x 7 columns]"
      ]
     },
     "execution_count": 38,
     "metadata": {},
     "output_type": "execute_result"
    }
   ],
   "source": [
    "data.dropna()"
   ]
  },
  {
   "cell_type": "markdown",
   "metadata": {},
   "source": [
    "Changing datatype of features to integer"
   ]
  },
  {
   "cell_type": "code",
   "execution_count": 39,
   "metadata": {
    "collapsed": false
   },
   "outputs": [],
   "source": [
    "data['category_code'] = data['category_code'].astype(int)\n",
    "data['status'] = data['status'].astype(int)\n",
    "data['country_code'] = data['country_code'].astype(int)\n",
    "data['region'] = data['region'].astype(int)\n",
    "data['state_code'] = data['state_code'].astype(int)\n",
    "data['city'] = data['city'].astype(int)\n",
    "data['funding_round_type'] = data['funding_round_type'].astype(int)\n"
   ]
  },
  {
   "cell_type": "markdown",
   "metadata": {},
   "source": [
    "#### Creating training and test set by 70 % and 30% ratio"
   ]
  },
  {
   "cell_type": "code",
   "execution_count": 40,
   "metadata": {
    "collapsed": false
   },
   "outputs": [],
   "source": [
    "Y = data.funding_round_type\n",
    "\n",
    "data.drop(['funding_round_type'],axis=1,inplace=True)"
   ]
  },
  {
   "cell_type": "code",
   "execution_count": 41,
   "metadata": {
    "collapsed": false
   },
   "outputs": [
    {
     "name": "stdout",
     "output_type": "stream",
     "text": [
      "Index([u'category_code', u'status', u'country_code', u'state_code', u'region',\n",
      "       u'city'],\n",
      "      dtype='object')\n",
      "30320    0\n",
      "30319    0\n",
      "30262    0\n",
      "Name: funding_round_type, dtype: int32\n",
      "9\n"
     ]
    }
   ],
   "source": [
    "print data.columns\n",
    "print Y[:3]\n",
    "print len(np.unique(Y))"
   ]
  },
  {
   "cell_type": "code",
   "execution_count": 42,
   "metadata": {
    "collapsed": false
   },
   "outputs": [],
   "source": [
    "X_train, X_test, Y_train, Y_test = train_test_split(data,Y,test_size=0.3)"
   ]
  },
  {
   "cell_type": "code",
   "execution_count": 43,
   "metadata": {
    "collapsed": false
   },
   "outputs": [
    {
     "name": "stdout",
     "output_type": "stream",
     "text": [
      "Xtrain :  (29413, 6)\n",
      "Xtest :  (12606, 6)\n",
      "Ytrain :  (29413L,)\n",
      "Ytest :  (12606L,)\n"
     ]
    }
   ],
   "source": [
    "print \"Xtrain : \",X_train.shape\n",
    "print \"Xtest : \",X_test.shape\n",
    "print \"Ytrain : \",Y_train.shape\n",
    "print \"Ytest : \",Y_test.shape"
   ]
  },
  {
   "cell_type": "markdown",
   "metadata": {},
   "source": [
    "### Classification"
   ]
  },
  {
   "cell_type": "code",
   "execution_count": 46,
   "metadata": {
    "collapsed": true
   },
   "outputs": [],
   "source": [
    "\n",
    "from sklearn import linear_model"
   ]
  },
  {
   "cell_type": "code",
   "execution_count": 47,
   "metadata": {
    "collapsed": true
   },
   "outputs": [],
   "source": [
    "classifier = linear_model.LogisticRegression(penalty='l2',solver='lbfgs',multi_class='multinomial')"
   ]
  },
  {
   "cell_type": "code",
   "execution_count": 48,
   "metadata": {
    "collapsed": false
   },
   "outputs": [
    {
     "data": {
      "text/plain": [
       "LogisticRegression(C=1.0, class_weight=None, dual=False, fit_intercept=True,\n",
       "          intercept_scaling=1, max_iter=100, multi_class='multinomial',\n",
       "          n_jobs=1, penalty='l2', random_state=None, solver='lbfgs',\n",
       "          tol=0.0001, verbose=0, warm_start=False)"
      ]
     },
     "execution_count": 48,
     "metadata": {},
     "output_type": "execute_result"
    }
   ],
   "source": [
    "classifier.fit(X_train,Y_train)"
   ]
  },
  {
   "cell_type": "code",
   "execution_count": 49,
   "metadata": {
    "collapsed": true
   },
   "outputs": [],
   "source": [
    "predictions = classifier.predict(X_test)"
   ]
  },
  {
   "cell_type": "code",
   "execution_count": 50,
   "metadata": {
    "collapsed": true
   },
   "outputs": [],
   "source": [
    "accuracy = classifier.score(X_test,Y_test)"
   ]
  },
  {
   "cell_type": "code",
   "execution_count": 51,
   "metadata": {
    "collapsed": false
   },
   "outputs": [
    {
     "name": "stdout",
     "output_type": "stream",
     "text": [
      "31.7229890528 %\n"
     ]
    }
   ],
   "source": [
    "print accuracy*100,\"%\""
   ]
  },
  {
   "cell_type": "code",
   "execution_count": 52,
   "metadata": {
    "collapsed": true
   },
   "outputs": [],
   "source": [
    "from sklearn import metrics"
   ]
  },
  {
   "cell_type": "code",
   "execution_count": 53,
   "metadata": {
    "collapsed": false
   },
   "outputs": [
    {
     "name": "stdout",
     "output_type": "stream",
     "text": [
      "classification report : \n",
      "             precision    recall  f1-score   support\n",
      "\n",
      "          0       0.26      0.19      0.22      2456\n",
      "          1       0.00      0.00      0.00        22\n",
      "          2       0.00      0.00      0.00      1414\n",
      "          3       0.00      0.00      0.00        41\n",
      "          4       0.00      0.00      0.00       286\n",
      "          5       0.50      0.00      0.00      2200\n",
      "          6       0.00      0.00      0.00      1120\n",
      "          7       0.00      0.00      0.00      1108\n",
      "          8       0.33      0.89      0.48      3959\n",
      "\n",
      "avg / total       0.24      0.32      0.19     12606\n",
      "\n"
     ]
    },
    {
     "name": "stderr",
     "output_type": "stream",
     "text": [
      "C:\\Users\\mphan21\\AppData\\Local\\Continuum\\Anaconda2\\lib\\site-packages\\sklearn\\metrics\\classification.py:1113: UndefinedMetricWarning:\n",
      "\n",
      "Precision and F-score are ill-defined and being set to 0.0 in labels with no predicted samples.\n",
      "\n"
     ]
    }
   ],
   "source": [
    "print \"classification report : \"\n",
    "print(metrics.classification_report(Y_test, predictions))"
   ]
  },
  {
   "cell_type": "code",
   "execution_count": 54,
   "metadata": {
    "collapsed": false
   },
   "outputs": [
    {
     "name": "stdout",
     "output_type": "stream",
     "text": [
      "confusion matrix : \n",
      "[[ 478    0    0    0    0    0    0    0 1978]\n",
      " [   2    0    0    0    0    0    0    0   20]\n",
      " [ 143    0    0    0    0    1    0    0 1270]\n",
      " [   2    0    0    0    0    0    0    0   39]\n",
      " [  24    0    0    0    0    0    0    0  262]\n",
      " [ 384    0    0    0    0    1    0    0 1815]\n",
      " [ 203    0    0    0    0    0    0    0  917]\n",
      " [ 192    0    0    0    0    0    0    0  916]\n",
      " [ 439    0    0    0    0    0    0    0 3520]]\n"
     ]
    }
   ],
   "source": [
    "print \"confusion matrix : \"\n",
    "print(metrics.confusion_matrix(Y_test, predictions))"
   ]
  },
  {
   "cell_type": "markdown",
   "metadata": {},
   "source": [
    "### Visualization"
   ]
  },
  {
   "cell_type": "code",
   "execution_count": 55,
   "metadata": {
    "collapsed": false
   },
   "outputs": [],
   "source": [
    "import pylab as pl\n",
    "import collections"
   ]
  },
  {
   "cell_type": "code",
   "execution_count": 56,
   "metadata": {
    "collapsed": false
   },
   "outputs": [
    {
     "name": "stdout",
     "output_type": "stream",
     "text": [
      "[0 5 8]\n",
      "9\n",
      "[0 1 2 3 4 5 6 7 8]\n"
     ]
    }
   ],
   "source": [
    "print np.unique(predictions)\n",
    "print len(np.unique(Y_test))\n",
    "print np.unique(Y_test)"
   ]
  },
  {
   "cell_type": "code",
   "execution_count": 57,
   "metadata": {
    "collapsed": false
   },
   "outputs": [
    {
     "name": "stdout",
     "output_type": "stream",
     "text": [
      "['angel' 'crowdfunding' 'other' 'post-ipo' 'private-equity' 'series-a'\n",
      " 'series-b' 'series-c+' 'venture']\n"
     ]
    }
   ],
   "source": [
    "print labels"
   ]
  },
  {
   "cell_type": "code",
   "execution_count": 58,
   "metadata": {
    "collapsed": false
   },
   "outputs": [
    {
     "name": "stdout",
     "output_type": "stream",
     "text": [
      "Counter({8: 3959, 0: 2456, 5: 2200, 2: 1414, 6: 1120, 7: 1108, 4: 286, 3: 41, 1: 22})\n"
     ]
    }
   ],
   "source": [
    "frequencies = collections.Counter(Y_test)\n",
    "print frequencies"
   ]
  },
  {
   "cell_type": "code",
   "execution_count": 59,
   "metadata": {
    "collapsed": false
   },
   "outputs": [
    {
     "data": {
      "image/png": "[encoded data removed]",
      "text/plain": [
       "<matplotlib.figure.Figure at 0xd891e48>"
      ]
     },
     "metadata": {},
     "output_type": "display_data"
    },
    {
     "data": {
      "text/plain": [
       "<matplotlib.figure.Figure at 0x24660f0>"
      ]
     },
     "metadata": {},
     "output_type": "display_data"
    }
   ],
   "source": [
    "X = np.arange(len(frequencies))\n",
    "pl.bar(X, frequencies.values(), align='center', width=0.2)\n",
    "pl.xticks(X, frequencies.keys())\n",
    "ymax = max(frequencies.values()) + 1\n",
    "pl.ylim(0, ymax)\n",
    "fig = pl.figure()\n",
    "pl.show()"
   ]
  },
  {
   "cell_type": "code",
   "execution_count": 60,
   "metadata": {
    "collapsed": false
   },
   "outputs": [
    {
     "name": "stdout",
     "output_type": "stream",
     "text": [
      "Counter({8: 9206, 0: 5729, 5: 4974, 2: 3405, 6: 2670, 7: 2600, 4: 678, 3: 102, 1: 49})\n"
     ]
    }
   ],
   "source": [
    "frequencies = collections.Counter(Y_train)\n",
    "print frequencies"
   ]
  },
  {
   "cell_type": "code",
   "execution_count": 61,
   "metadata": {
    "collapsed": false
   },
   "outputs": [
    {
     "name": "stdout",
     "output_type": "stream",
     "text": [
      "Counter({8: 31.299085438411588, 0: 19.47778193315881, 5: 16.91088974263081, 2: 11.576513786420971, 6: 9.07761874001292, 7: 8.839628735593106, 4: 2.305103185666202, 3: 0.34678543501172954, 1: 0.16659300309387004})\n"
     ]
    }
   ],
   "source": [
    "for i,v in frequencies.iteritems():\n",
    "    frequencies[i] /= 29413.0\n",
    "    frequencies[i] *= 100\n",
    "\n",
    "print frequencies"
   ]
  },
  {
   "cell_type": "code",
   "execution_count": 62,
   "metadata": {
    "collapsed": false
   },
   "outputs": [
    {
     "name": "stdout",
     "output_type": "stream",
     "text": [
      "[ 19.47778193   0.166593    11.57651379   0.34678544   2.30510319\n",
      "  16.91088974   9.07761874   8.83962874  31.29908544]\n"
     ]
    }
   ],
   "source": [
    "size = []\n",
    "for i,v in frequencies.iteritems():\n",
    "    size.append(v)\n",
    "\n",
    "sizes = np.array(size)\n",
    "sizes = sizes.astype(float)\n",
    "print sizes\n",
    "\n",
    "colors = ['yellowgreen', 'gold', 'lightskyblue', 'lightcoral','yellow','blue','green','black','red']\n",
    "explode = (0.2, 0.2, 0.2, 0.2,0.2,0.2,0.2,0.2,0.2) "
   ]
  },
  {
   "cell_type": "code",
   "execution_count": 69,
   "metadata": {
    "collapsed": true
   },
   "outputs": [],
   "source": [
    "plt.pie(sizes, explode=explode, labels=labels, colors=colors,\n",
    "        autopct='%1.1f%%', shadow=True, startangle=90)\n",
    "plt.axis('equal')\n",
    "\n",
    "fig = plt.figure()\n",
    "ax = fig.gca()"
   ]
  },
  {
   "cell_type": "code",
   "execution_count": 70,
   "metadata": {
    "collapsed": false
   },
   "outputs": [
    {
     "data": {
      "image/png": "[encoded data removed]",
      "text/plain": [
       "<matplotlib.figure.Figure at 0xe23e080>"
      ]
     },
     "metadata": {},
     "output_type": "display_data"
    },
    {
     "data": {
      "image/png": "[encoded data removed]",
      "text/plain": [
       "<matplotlib.figure.Figure at 0xe6799e8>"
      ]
     },
     "metadata": {},
     "output_type": "display_data"
    }
   ],
   "source": [
    "plt.show()"
   ]
  },
  {
   "cell_type": "code",
   "execution_count": null,
   "metadata": {
    "collapsed": true
   },
   "outputs": [],
   "source": []
  }
 ],
 "metadata": {
  "kernelspec": {
   "display_name": "Python 2",
   "language": "python",
   "name": "python2"
  },
  "language_info": {
   "codemirror_mode": {
    "name": "ipython",
    "version": 2
   },
   "file_extension": ".py",
   "mimetype": "text/x-python",
   "name": "python",
   "nbconvert_exporter": "python",
   "pygments_lexer": "ipython2",
   "version": "2.7.13"
  }
 },
 "nbformat": 4,
 "nbformat_minor": 0
}
